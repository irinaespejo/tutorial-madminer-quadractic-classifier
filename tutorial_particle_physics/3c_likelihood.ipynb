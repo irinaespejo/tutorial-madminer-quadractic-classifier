{
 "cells": [
  {
   "cell_type": "markdown",
   "metadata": {},
   "source": [
    "# MadMiner particle physics tutorial\n",
    "\n",
    "# Part 3c: Training a likelihood estimator\n",
    "\n",
    "Johann Brehmer, Felix Kling, Irina Espejo, and Kyle Cranmer 2018-2019"
   ]
  },
  {
   "cell_type": "markdown",
   "metadata": {},
   "source": [
    "In part 3c of this tutorial we will train a third neural estimator: this time of the likelihood function itself (rather than its ratio). We assume that you have run part 1 and 2a of this tutorial. If, instead of 2a, you have run part 2b, you just have to load a different filename later."
   ]
  },
  {
   "cell_type": "markdown",
   "metadata": {},
   "source": [
    "## Preparations"
   ]
  },
  {
   "cell_type": "code",
   "execution_count": 1,
   "metadata": {},
   "outputs": [],
   "source": [
    "from __future__ import absolute_import, division, print_function, unicode_literals\n",
    "\n",
    "import logging\n",
    "import numpy as np\n",
    "import matplotlib\n",
    "from matplotlib import pyplot as plt\n",
    "%matplotlib inline\n"
   ]
  },
  {
   "cell_type": "code",
   "execution_count": 2,
   "metadata": {},
   "outputs": [],
   "source": [
    "# MadMiner output\n",
    "logging.basicConfig(\n",
    "    format='%(asctime)-5.5s %(name)-20.20s %(levelname)-7.7s %(message)s',\n",
    "    datefmt='%H:%M',\n",
    "    level=logging.INFO\n",
    ")\n",
    "\n",
    "# Output of all other modules (e.g. matplotlib)\n",
    "for key in logging.Logger.manager.loggerDict:\n",
    "    if \"madminer\" not in key:\n",
    "        logging.getLogger(key).setLevel(logging.WARNING)"
   ]
  },
  {
   "cell_type": "code",
   "execution_count": 3,
   "metadata": {},
   "outputs": [
    {
     "name": "stderr",
     "output_type": "stream",
     "text": [
      "11:20 madminer             INFO    \n",
      "11:20 madminer             INFO    ------------------------------------------------------------------------\n",
      "11:20 madminer             INFO    |                                                                      |\n",
      "11:20 madminer             INFO    |  MadMiner v0.7.4                                                     |\n",
      "11:20 madminer             INFO    |                                                                      |\n",
      "11:20 madminer             INFO    |         Johann Brehmer, Felix Kling, Irina Espejo, and Kyle Cranmer  |\n",
      "11:20 madminer             INFO    |                                                                      |\n",
      "11:20 madminer             INFO    ------------------------------------------------------------------------\n",
      "11:20 madminer             INFO    \n"
     ]
    }
   ],
   "source": [
    "from madminer import SampleAugmenter, sampling, LikelihoodEstimator"
   ]
  },
  {
   "cell_type": "markdown",
   "metadata": {},
   "source": [
    "## 1. Make (unweighted) training and test samples with augmented data"
   ]
  },
  {
   "cell_type": "markdown",
   "metadata": {},
   "source": [
    "At this point, we have all the information we need from the simulations. But the data is not quite ready to be used for machine learning. The `madminer.sampling` class `SampleAugmenter` will take care of the remaining book-keeping steps before we can train our estimators:\n",
    "\n",
    "First, it unweights the samples, i.e. for a given parameter vector `theta` (or a distribution `p(theta)`) it picks events `x` such that their distribution follows `p(x|theta)`. The selected samples will all come from the event file we have so far, but their frequency is changed -- some events will appear multiple times, some will disappear.\n",
    "\n",
    "Second, `SampleAugmenter` calculates all the augmented data (\"gold\") that is the key to our new inference methods. Depending on the specific technique, these are the joint likelihood ratio and / or the joint score. It saves all these pieces of information for the selected events in a set of numpy files that can easily be used in any machine learning framework."
   ]
  },
  {
   "cell_type": "code",
   "execution_count": 3,
   "metadata": {},
   "outputs": [
    {
     "name": "stderr",
     "output_type": "stream",
     "text": [
      "21:20 madminer.analysis    INFO    Loading data from data/lhe_data_shuffled.h5\n",
      "21:20 madminer.analysis    INFO    Found 2 parameters\n",
      "21:20 madminer.analysis    INFO    Did not find nuisance parameters\n",
      "21:20 madminer.analysis    INFO    Found 6 benchmarks, of which 6 physical\n",
      "21:20 madminer.analysis    INFO    Found 3 observables\n",
      "21:20 madminer.analysis    INFO    Found 539913 events\n",
      "21:20 madminer.analysis    INFO      499913 signal events sampled from benchmark sm\n",
      "21:20 madminer.analysis    INFO      10000 signal events sampled from benchmark w\n",
      "21:20 madminer.analysis    INFO      10000 signal events sampled from benchmark neg_w\n",
      "21:20 madminer.analysis    INFO      10000 signal events sampled from benchmark ww\n",
      "21:20 madminer.analysis    INFO      10000 signal events sampled from benchmark neg_ww\n",
      "21:20 madminer.analysis    INFO    Found morphing setup with 6 components\n",
      "21:20 madminer.analysis    INFO    Did not find nuisance morphing setup\n"
     ]
    }
   ],
   "source": [
    "sampler = SampleAugmenter('data/lhe_data_shuffled.h5')\n",
    "# sampler = SampleAugmenter('data/delphes_data_shuffled.h5')"
   ]
  },
  {
   "cell_type": "markdown",
   "metadata": {},
   "source": [
    "The `SampleAugmenter` class defines five different high-level functions to generate train or test samples:\n",
    "- `sample_train_plain()`, which only saves observations x, for instance for histograms or ABC;\n",
    "- `sample_train_local()` for methods like SALLY and SALLINO, which will be demonstrated in the second part of the tutorial;\n",
    "- `sample_train_density()` for neural density estimation techniques like MAF or SCANDAL;\n",
    "- `sample_train_ratio()` for techniques like CARL, ROLR, CASCAL, and RASCAL, when only theta0 is parameterized;\n",
    "- `sample_train_more_ratios()` for the same techniques, but with both theta0 and theta1 parameterized;\n",
    "- `sample_test()` for the evaluation of any method.\n",
    "\n",
    "For the arguments `theta`, `theta0`, or `theta1`, you can (and should!) use the helper functions `benchmark()`, `benchmarks()`, `morphing_point()`, `morphing_points()`, and `random_morphing_points()`, all defined in the `madminer.sampling` module.\n",
    "\n",
    "Here we'll train a likelihood estimator with the SCANDAL method, so we focus on the `extract_samples_train_density()` function. We'll sample the numerator hypothesis in the likelihood ratio with 1000 points drawn from a Gaussian prior, and fix the denominator hypothesis to the SM.\n",
    "\n",
    "Note the keyword `sample_only_from_closest_benchmark=True`, which makes sure that for each parameter point we only use the events that were originally (in MG) generated from the closest benchmark. This reduces the statistical fluctuations in the outcome quite a bit."
   ]
  },
  {
   "cell_type": "code",
   "execution_count": 4,
   "metadata": {},
   "outputs": [
    {
     "name": "stderr",
     "output_type": "stream",
     "text": [
      "21:20 madminer.sampling    INFO    Extracting training sample for non-local score-based methods. Sampling and score evaluation according to (u'random_morphing_points', (10000, [(u'gaussian', 0.0, 0.5), (u'gaussian', 0.0, 0.5)]))\n",
      "21:20 madminer.sampling    INFO    Starting sampling serially\n",
      "21:20 madminer.sampling    WARNING For this value of theta, 1 / 92601 events have negative weight and will be ignored\n",
      "21:21 madminer.sampling    WARNING Large statistical uncertainty on the total cross section when sampling from theta = [1.3800884  0.45778593]: (0.000934 +/- 0.000099) pb (10.593819215690356 %). Skipping these warnings in the future...\n",
      "21:22 madminer.sampling    INFO    Sampling from parameter point 500 / 10000\n",
      "21:23 madminer.sampling    WARNING For this value of theta, 1 / 22139 events have negative weight and will be ignored\n",
      "21:24 madminer.sampling    INFO    Sampling from parameter point 1000 / 10000\n",
      "21:25 madminer.sampling    WARNING For this value of theta, 1 / 92601 events have negative weight and will be ignored\n",
      "21:25 madminer.sampling    WARNING Skipping warnings about negative weights in the future...\n",
      "21:25 madminer.sampling    INFO    Sampling from parameter point 1500 / 10000\n",
      "21:26 madminer.sampling    INFO    Sampling from parameter point 2000 / 10000\n",
      "21:28 madminer.sampling    INFO    Sampling from parameter point 2500 / 10000\n",
      "21:29 madminer.sampling    INFO    Sampling from parameter point 3000 / 10000\n",
      "21:30 madminer.sampling    INFO    Sampling from parameter point 3500 / 10000\n",
      "21:31 madminer.sampling    INFO    Sampling from parameter point 4000 / 10000\n",
      "21:33 madminer.sampling    INFO    Sampling from parameter point 4500 / 10000\n",
      "21:34 madminer.sampling    INFO    Sampling from parameter point 5000 / 10000\n",
      "21:35 madminer.sampling    INFO    Sampling from parameter point 5500 / 10000\n",
      "21:36 madminer.sampling    INFO    Sampling from parameter point 6000 / 10000\n",
      "21:38 madminer.sampling    INFO    Sampling from parameter point 6500 / 10000\n",
      "21:40 madminer.sampling    INFO    Sampling from parameter point 7000 / 10000\n",
      "21:41 madminer.sampling    INFO    Sampling from parameter point 7500 / 10000\n",
      "21:43 madminer.sampling    INFO    Sampling from parameter point 8000 / 10000\n",
      "21:45 madminer.sampling    INFO    Sampling from parameter point 8500 / 10000\n",
      "21:47 madminer.sampling    INFO    Sampling from parameter point 9000 / 10000\n",
      "21:48 madminer.sampling    INFO    Sampling from parameter point 9500 / 10000\n",
      "21:49 madminer.sampling    INFO    Sampling from parameter point 10000 / 10000\n",
      "21:49 madminer.sampling    INFO    Effective number of samples: mean 6205.896501927297, with individual thetas ranging from 148.1810482902475 to 280362.6238966836\n"
     ]
    }
   ],
   "source": [
    "x, theta, t_xz, _ = sampler.sample_train_density(\n",
    "    theta=sampling.random_morphing_points(10000, [('gaussian', 0., 0.5), ('gaussian', 0., 0.5)]),\n",
    "    n_samples=500000,\n",
    "    folder='./data/samples',\n",
    "    filename='train_density',\n",
    "    sample_only_from_closest_benchmark=True,\n",
    ")"
   ]
  },
  {
   "cell_type": "markdown",
   "metadata": {},
   "source": [
    "For the evaluation we'll need a test sample:"
   ]
  },
  {
   "cell_type": "code",
   "execution_count": 24,
   "metadata": {
    "scrolled": true
   },
   "outputs": [
    {
     "name": "stderr",
     "output_type": "stream",
     "text": [
      "23:37 madminer.sampling    INFO    Extracting evaluation sample. Sampling according to sm\n",
      "23:37 madminer.sampling    INFO    Starting sampling serially\n",
      "23:37 madminer.sampling    INFO    Sampling from parameter point 1 / 1\n",
      "23:37 madminer.sampling    INFO    Effective number of samples: mean 99945.99999999999, with individual thetas ranging from 99945.99999999996 to 99945.99999999996\n"
     ]
    }
   ],
   "source": [
    "_ = sampler.sample_test(\n",
    "    theta=sampling.benchmark('sm'),\n",
    "    n_samples=1000,\n",
    "    folder='./data/samples',\n",
    "    filename='test'\n",
    ")"
   ]
  },
  {
   "cell_type": "markdown",
   "metadata": {},
   "source": [
    "## 2. Train likelihood estimator"
   ]
  },
  {
   "cell_type": "markdown",
   "metadata": {},
   "source": [
    "It's now time to build the neural network that estimates the likelihood ratio. The central object for this is the `madminer.ml.ParameterizedRatioEstimator` class. It defines functions that train, save, load, and evaluate the estimators.\n",
    "\n",
    "In the initialization, the keywords `n_hidden` and `activation` define the architecture of the (fully connected) neural network:"
   ]
  },
  {
   "cell_type": "code",
   "execution_count": 30,
   "metadata": {},
   "outputs": [],
   "source": [
    "estimator = LikelihoodEstimator(\n",
    "    n_mades=3,\n",
    "    n_hidden=(60,60),\n",
    "    activation=\"relu\"\n",
    ")"
   ]
  },
  {
   "cell_type": "markdown",
   "metadata": {},
   "source": [
    "To train this model we will minimize the SCANDAL loss function described in [\"Mining gold from implicit models to improve likelihood-free inference\"](https://arxiv.org/abs/1805.12244)."
   ]
  },
  {
   "cell_type": "code",
   "execution_count": 31,
   "metadata": {},
   "outputs": [
    {
     "name": "stderr",
     "output_type": "stream",
     "text": [
      "23:43 madminer.ml          INFO    Starting training\n",
      "23:43 madminer.ml          INFO      Method:                 scandal\n",
      "23:43 madminer.ml          INFO      alpha:                  10.0\n",
      "23:43 madminer.ml          INFO      Batch size:             128\n",
      "23:43 madminer.ml          INFO      Optimizer:              amsgrad\n",
      "23:43 madminer.ml          INFO      Epochs:                 10\n",
      "23:43 madminer.ml          INFO      Learning rate:          0.01 initially, decaying to 0.0001\n",
      "23:43 madminer.ml          INFO      Validation split:       0.25\n",
      "23:43 madminer.ml          INFO      Early stopping:         True\n",
      "23:43 madminer.ml          INFO      Scale inputs:           True\n",
      "23:43 madminer.ml          INFO      Shuffle labels          False\n",
      "23:43 madminer.ml          INFO      Samples:                all\n",
      "23:43 madminer.ml          INFO    Loading training data\n",
      "23:43 madminer.utils.vario INFO      Loading data/samples/theta_train_density.npy into RAM\n",
      "23:43 madminer.utils.vario INFO      Loading data/samples/x_train_density.npy into RAM\n",
      "23:43 madminer.utils.vario INFO      Loading data/samples/t_xz_train_density.npy into RAM\n",
      "23:43 madminer.ml          INFO    Found 500000 samples with 2 parameters and 3 observables\n",
      "23:43 madminer.ml          INFO    Setting up input rescaling\n",
      "23:43 madminer.ml          INFO    Rescaling parameters\n",
      "23:43 madminer.ml          INFO    Setting up parameter rescaling\n",
      "23:43 madminer.ml          INFO    Training model\n",
      "23:43 madminer.utils.ml.tr INFO    Training on CPU with single precision\n",
      "23:43 madminer.utils.ml.tr INFO      Epoch   1: train loss  4.88081 (nll:  3.860, mse_score:  0.102)\n",
      "23:43 madminer.utils.ml.tr INFO                 val. loss   4.78138 (nll:  3.826, mse_score:  0.096)\n",
      "23:44 madminer.utils.ml.tr INFO      Epoch   2: train loss  4.71533 (nll:  3.851, mse_score:  0.086)\n",
      "23:44 madminer.utils.ml.tr INFO                 val. loss   4.67644 (nll:  3.840, mse_score:  0.084)\n",
      "23:45 madminer.utils.ml.tr INFO      Epoch   3: train loss  4.64771 (nll:  3.847, mse_score:  0.080)\n",
      "23:45 madminer.utils.ml.tr INFO                 val. loss   4.59229 (nll:  3.831, mse_score:  0.076)\n",
      "23:45 madminer.utils.ml.tr INFO      Epoch   4: train loss  4.61017 (nll:  3.840, mse_score:  0.077)\n",
      "23:45 madminer.utils.ml.tr INFO                 val. loss   4.58420 (nll:  3.858, mse_score:  0.073)\n",
      "23:46 madminer.utils.ml.tr INFO      Epoch   5: train loss  4.59877 (nll:  3.839, mse_score:  0.076)\n",
      "23:46 madminer.utils.ml.tr INFO                 val. loss   4.55739 (nll:  3.840, mse_score:  0.072)\n",
      "23:46 madminer.utils.ml.tr INFO      Epoch   6: train loss  4.58530 (nll:  3.839, mse_score:  0.075)\n",
      "23:46 madminer.utils.ml.tr INFO                 val. loss   4.55523 (nll:  3.838, mse_score:  0.072)\n",
      "23:47 madminer.utils.ml.tr INFO      Epoch   7: train loss  4.57893 (nll:  3.838, mse_score:  0.074)\n",
      "23:47 madminer.utils.ml.tr INFO                 val. loss   4.54729 (nll:  3.839, mse_score:  0.071)\n",
      "23:47 madminer.utils.ml.tr INFO      Epoch   8: train loss  4.57452 (nll:  3.837, mse_score:  0.074)\n",
      "23:47 madminer.utils.ml.tr INFO                 val. loss   4.54327 (nll:  3.833, mse_score:  0.071)\n",
      "23:48 madminer.utils.ml.tr INFO      Epoch   9: train loss  4.57245 (nll:  3.836, mse_score:  0.074)\n",
      "23:48 madminer.utils.ml.tr INFO                 val. loss   4.54101 (nll:  3.834, mse_score:  0.071)\n",
      "23:48 madminer.utils.ml.tr INFO      Epoch  10: train loss  4.56967 (nll:  3.836, mse_score:  0.073)\n",
      "23:48 madminer.utils.ml.tr INFO                 val. loss   4.54153 (nll:  3.835, mse_score:  0.071)\n",
      "23:48 madminer.utils.ml.tr INFO    Early stopping after epoch 9, with loss  4.54101 compared to final loss  4.54153\n",
      "23:48 madminer.utils.ml.tr INFO    Training time spend on:\n",
      "23:48 madminer.utils.ml.tr INFO                      initialize model:   0.00h\n",
      "23:48 madminer.utils.ml.tr INFO                                   ALL:   0.09h\n",
      "23:48 madminer.utils.ml.tr INFO                            check data:   0.00h\n",
      "23:48 madminer.utils.ml.tr INFO                          make dataset:   0.00h\n",
      "23:48 madminer.utils.ml.tr INFO                       make dataloader:   0.00h\n",
      "23:48 madminer.utils.ml.tr INFO                       setup optimizer:   0.00h\n",
      "23:48 madminer.utils.ml.tr INFO                   initialize training:   0.00h\n",
      "23:48 madminer.utils.ml.tr INFO                                set lr:   0.00h\n",
      "23:48 madminer.utils.ml.tr INFO                   load training batch:   0.01h\n",
      "23:48 madminer.utils.ml.tr INFO                        fwd: move data:   0.00h\n",
      "23:48 madminer.utils.ml.tr INFO                   fwd: check for nans:   0.01h\n",
      "23:48 madminer.utils.ml.tr INFO                    fwd: model.forward:   0.04h\n",
      "23:48 madminer.utils.ml.tr INFO                 fwd: calculate losses:   0.00h\n",
      "23:48 madminer.utils.ml.tr INFO                 training forward pass:   0.04h\n",
      "23:48 madminer.utils.ml.tr INFO                   training sum losses:   0.00h\n",
      "23:48 madminer.utils.ml.tr INFO                        opt: zero grad:   0.00h\n",
      "23:48 madminer.utils.ml.tr INFO                         opt: backward:   0.02h\n",
      "23:48 madminer.utils.ml.tr INFO                   opt: clip grad norm:   0.00h\n",
      "23:48 madminer.utils.ml.tr INFO                             opt: step:   0.01h\n",
      "23:48 madminer.utils.ml.tr INFO                        optimizer step:   0.03h\n",
      "23:48 madminer.utils.ml.tr INFO                 load validation batch:   0.00h\n",
      "23:48 madminer.utils.ml.tr INFO               validation forward pass:   0.01h\n",
      "23:48 madminer.utils.ml.tr INFO                 validation sum losses:   0.00h\n",
      "23:48 madminer.utils.ml.tr INFO                        early stopping:   0.00h\n",
      "23:48 madminer.utils.ml.tr INFO                          report epoch:   0.00h\n",
      "23:48 madminer.ml          INFO    Saving model to models/scandal\n"
     ]
    }
   ],
   "source": [
    "estimator.train(\n",
    "    method='scandal',\n",
    "    theta='data/samples/theta_train_density.npy',\n",
    "    x='data/samples/x_train_density.npy',\n",
    "    t_xz='data/samples/t_xz_train_density.npy',\n",
    "    alpha=10.,\n",
    "    n_epochs=10,\n",
    "    initial_lr=0.01,\n",
    ")\n",
    "\n",
    "estimator.save('models/scandal')"
   ]
  },
  {
   "cell_type": "markdown",
   "metadata": {},
   "source": [
    "(nll:  3.830, mse_score:  0.064"
   ]
  },
  {
   "cell_type": "markdown",
   "metadata": {},
   "source": [
    "## 3. Evaluate likelihood estimator"
   ]
  },
  {
   "cell_type": "markdown",
   "metadata": {},
   "source": [
    "`estimator.evaluate_log_likelihood(theta,x)` estimated the log likelihood for all combination between the given phase-space points `x` and parameters `theta`. That is, if given 100 events `x` and a grid of 25 `theta` points, it will return 25\\*100 estimates for the log likelihood, indexed by `[i_theta,i_x]`."
   ]
  },
  {
   "cell_type": "code",
   "execution_count": 32,
   "metadata": {},
   "outputs": [],
   "source": [
    "theta_each = np.linspace(-1.,1.,25)\n",
    "theta0, theta1 = np.meshgrid(theta_each, theta_each)\n",
    "theta_grid = np.vstack((theta0.flatten(), theta1.flatten())).T\n",
    "np.save('data/samples/theta_grid.npy', theta_grid)\n"
   ]
  },
  {
   "cell_type": "code",
   "execution_count": 33,
   "metadata": {},
   "outputs": [
    {
     "name": "stderr",
     "output_type": "stream",
     "text": [
      "23:48 madminer.ml          INFO    Loading model from models/scandal\n",
      "23:48 madminer.utils.vario INFO      Loading data/samples/theta_grid.npy into RAM\n",
      "23:48 madminer.utils.vario INFO      Loading data/samples/x_test.npy into RAM\n",
      "23:48 madminer.ml          INFO    Starting ratio evaluation for 625000 x-theta combinations\n",
      "23:49 madminer.ml          INFO    Evaluation done\n"
     ]
    }
   ],
   "source": [
    "estimator.load('models/scandal')\n",
    "\n",
    "log_p_hat, _ = estimator.evaluate_log_likelihood(\n",
    "    theta='data/samples/theta_grid.npy',\n",
    "    x='data/samples/x_test.npy',\n",
    "    evaluate_score=False\n",
    ")"
   ]
  },
  {
   "cell_type": "markdown",
   "metadata": {},
   "source": [
    "Let's look at the result:"
   ]
  },
  {
   "cell_type": "code",
   "execution_count": 34,
   "metadata": {},
   "outputs": [
    {
     "data": {
      "image/png": "[encoded data removed]",
      "text/plain": [
       "<matplotlib.figure.Figure at 0x115214dd0>"
      ]
     },
     "metadata": {},
     "output_type": "display_data"
    }
   ],
   "source": [
    "bin_size = theta_each[1] - theta_each[0]\n",
    "edges = np.linspace(theta_each[0] - bin_size/2, theta_each[-1] + bin_size/2, len(theta_each)+1)\n",
    "\n",
    "fig = plt.figure(figsize=(6,5))\n",
    "ax = plt.gca()\n",
    "\n",
    "expected_llr = np.mean(log_p_hat,axis=1)\n",
    "best_fit = theta_grid[np.argmin(-2.*expected_llr)]\n",
    "\n",
    "cmin, cmax = np.min(-2*expected_llr), np.max(-2*expected_llr)\n",
    "    \n",
    "pcm = ax.pcolormesh(edges, edges, -2. * expected_llr.reshape((25,25)),\n",
    "                    norm=matplotlib.colors.Normalize(vmin=cmin, vmax=cmax),\n",
    "                    cmap='viridis_r')\n",
    "cbar = fig.colorbar(pcm, ax=ax, extend='both')\n",
    "\n",
    "plt.scatter(best_fit[0], best_fit[1], s=80., color='black', marker='*')\n",
    "\n",
    "plt.xlabel(r'$\\theta_0$')\n",
    "plt.ylabel(r'$\\theta_1$')\n",
    "cbar.set_label(r'$\\mathbb{E}_x [ -2\\, \\log \\,\\hat{r}(x | \\theta, \\theta_{SM}) ]$')\n",
    "\n",
    "plt.tight_layout()\n",
    "plt.show()\n"
   ]
  },
  {
   "cell_type": "markdown",
   "metadata": {},
   "source": [
    "Note that in this tutorial our sample size was very small, and the network might not really have a chance to converge to the correct likelihood function. So don't worry if you find a minimum that is not at the right point (the SM, i.e. the origin in this plot). Feel free to dial up the event numbers in the run card as well as the training samples and see what happens then!"
   ]
  }
 ],
 "metadata": {
  "kernelspec": {
   "display_name": "Python (higgs_inference)",
   "language": "python",
   "name": "higgs_inference"
  },
  "language_info": {
   "codemirror_mode": {
    "name": "ipython",
    "version": 3
   },
   "file_extension": ".py",
   "mimetype": "text/x-python",
   "name": "python",
   "nbconvert_exporter": "python",
   "pygments_lexer": "ipython3",
   "version": "3.6.7"
  }
 },
 "nbformat": 4,
 "nbformat_minor": 2
}
