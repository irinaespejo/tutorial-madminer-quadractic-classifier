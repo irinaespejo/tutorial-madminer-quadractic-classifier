{
 "cells": [
  {
   "cell_type": "markdown",
   "metadata": {},
   "source": [
    "# MadMiner particle physics tutorial\n",
    "\n",
    "# Appendix 1: Adding systematic uncertainties\n",
    "\n",
    "Johann Brehmer, Felix Kling, Irina Espejo, and Kyle Cranmer 2018-2019"
   ]
  },
  {
   "cell_type": "markdown",
   "metadata": {},
   "source": [
    "In this tutorial we'll explain how to add systematic uncertainties to the MadMiner workflow. Note that the treatment of systematic uncertainties changed substantially with `MadMiner v0.6`, including changes to the MadMiner file specification. Please don't use files from older MadMiner versions with systematic uncertainties."
   ]
  },
  {
   "cell_type": "markdown",
   "metadata": {},
   "source": [
    "## Preparations"
   ]
  },
  {
   "cell_type": "markdown",
   "metadata": {},
   "source": [
    "Before you execute this notebook, make sure you have running installations of MadGraph, Pythia, and Delphes."
   ]
  },
  {
   "cell_type": "code",
   "execution_count": 36,
   "metadata": {},
   "outputs": [],
   "source": [
    "from __future__ import absolute_import, division, print_function, unicode_literals\n",
    "\n",
    "import logging\n",
    "import numpy as np\n",
    "import matplotlib\n",
    "from matplotlib import pyplot as plt\n",
    "%matplotlib inline\n",
    "\n",
    "from madminer.core import MadMiner\n",
    "from madminer.lhe import LHEReader\n",
    "from madminer.sampling import SampleAugmenter\n",
    "from madminer import sampling\n",
    "from madminer.ml import ScoreEstimator\n",
    "from madminer.fisherinformation import FisherInformation, profile_information, project_information\n",
    "from madminer.plotting import plot_systematics, plot_fisher_information_contours_2d\n"
   ]
  },
  {
   "cell_type": "markdown",
   "metadata": {},
   "source": [
    "Please enter here the path to your MG5 root directory."
   ]
  },
  {
   "cell_type": "code",
   "execution_count": 2,
   "metadata": {},
   "outputs": [],
   "source": [
    "mg_dir = '/Users/johannbrehmer/work/projects/madminer/MG5_aMC_v2_6_7'"
   ]
  },
  {
   "cell_type": "markdown",
   "metadata": {},
   "source": [
    "MadMiner uses the Python `logging` module to provide additional information and debugging output. You can choose how much of this output you want to see by switching the level in the following lines to `logging.DEBUG` or `logging.WARNING`."
   ]
  },
  {
   "cell_type": "code",
   "execution_count": 3,
   "metadata": {},
   "outputs": [],
   "source": [
    "# MadMiner output\n",
    "logging.basicConfig(\n",
    "    format='%(asctime)-5.5s %(name)-20.20s %(levelname)-7.7s %(message)s',\n",
    "    datefmt='%H:%M',\n",
    "    level=logging.DEBUG\n",
    ")\n",
    "\n",
    "# Output of all other modules (e.g. matplotlib)\n",
    "for key in logging.Logger.manager.loggerDict:\n",
    "    if \"madminer\" not in key:\n",
    "        logging.getLogger(key).setLevel(logging.WARNING)"
   ]
  },
  {
   "cell_type": "markdown",
   "metadata": {},
   "source": [
    "## 1. Parameters and benchmarks"
   ]
  },
  {
   "cell_type": "markdown",
   "metadata": {},
   "source": [
    "We'll just load the MadMiner setup from the first part of this tutorial:"
   ]
  },
  {
   "cell_type": "code",
   "execution_count": 4,
   "metadata": {},
   "outputs": [
    {
     "name": "stderr",
     "output_type": "stream",
     "text": [
      "15:34 madminer.core        INFO    Found 2 parameters:\n",
      "15:34 madminer.core        INFO       CWL2 (LHA: dim6 2, maximal power in squared ME: (2,), range: (-20.0, 20.0))\n",
      "15:34 madminer.core        INFO       CPWL2 (LHA: dim6 5, maximal power in squared ME: (2,), range: (-20.0, 20.0))\n",
      "15:34 madminer.core        INFO    Found 6 benchmarks:\n",
      "15:34 madminer.core        INFO       sm: CWL2 = 0.00e+00, CPWL2 = 0.00e+00\n",
      "15:34 madminer.core        INFO       w: CWL2 = 15.20, CPWL2 = 0.10\n",
      "15:34 madminer.core        INFO       neg_w: CWL2 = -1.54e+01, CPWL2 = 0.20\n",
      "15:34 madminer.core        INFO       ww: CWL2 = 0.30, CPWL2 = 15.10\n",
      "15:34 madminer.core        INFO       neg_ww: CWL2 = 0.40, CPWL2 = -1.53e+01\n",
      "15:34 madminer.core        INFO       morphing_basis_vector_5: CWL2 = -1.68e+01, CPWL2 = -1.72e+01\n",
      "15:34 madminer.core        INFO    Found morphing setup with 6 components\n",
      "15:34 madminer.core        INFO    Did not find systematics setup.\n"
     ]
    }
   ],
   "source": [
    "miner = MadMiner()\n",
    "miner.load('data/setup.h5')"
   ]
  },
  {
   "cell_type": "markdown",
   "metadata": {},
   "source": [
    "## 2. Set up systematics, save settings"
   ]
  },
  {
   "cell_type": "markdown",
   "metadata": {},
   "source": [
    "This is where things become interesting: We want to model systematic uncertainties. The main function is `add_systematics()`, the keyword `effect` determines how the effect of the nuisance parameters on the event weights is calculated. For `effect=\"norm\"`, the nuisance parameter rescales thee overall cross section of one or multiple samples. For `effect=\"pdf\"`, its effect is calculated with PDF variations. Finally, with `effect=\"scale\"` scale variations are used.\n",
    "\n",
    "Here we consider three nuisance parameters: one for the signal normalization, one for the background normalization, and one for scale uncertainties (which we here assume to be correlated between signal and background)."
   ]
  },
  {
   "cell_type": "code",
   "execution_count": 6,
   "metadata": {},
   "outputs": [],
   "source": [
    "miner.add_systematics(effect=\"norm\", systematic_name=\"signal_norm\", norm_variation=1.1)\n",
    "miner.add_systematics(effect=\"norm\", systematic_name=\"bkg_norm\", norm_variation=1.2)\n",
    "miner.add_systematics(effect=\"scale\", systematic_name=\"scales\", scale=\"mu\")"
   ]
  },
  {
   "cell_type": "markdown",
   "metadata": {},
   "source": [
    "Again, we save our setup:"
   ]
  },
  {
   "cell_type": "code",
   "execution_count": 7,
   "metadata": {},
   "outputs": [
    {
     "name": "stderr",
     "output_type": "stream",
     "text": [
      "15:34 madminer.core        INFO    Saving setup (including morphing) to data/setup_systematics.h5\n"
     ]
    }
   ],
   "source": [
    "miner.save('data/setup_systematics.h5')"
   ]
  },
  {
   "cell_type": "markdown",
   "metadata": {},
   "source": [
    "## 3. Run MadGraph"
   ]
  },
  {
   "cell_type": "markdown",
   "metadata": {},
   "source": [
    "Now it's time to run MadGraph. MadMiner will instruct MadGraph to use its built-in `systematics` tool to calculate how the event weights change under the scale variation."
   ]
  },
  {
   "cell_type": "code",
   "execution_count": 10,
   "metadata": {},
   "outputs": [
    {
     "name": "stderr",
     "output_type": "stream",
     "text": [
      "15:43 madminer.utils.inter INFO    Generating MadGraph process folder from cards/proc_card_signal.dat at ./mg_processes/signal_systematics\n",
      "15:43 madminer.core        INFO    Run 0\n",
      "15:43 madminer.core        INFO      Sampling from benchmark: sm\n",
      "15:43 madminer.core        INFO      Original run card:       cards/run_card_signal_small.dat\n",
      "15:43 madminer.core        INFO      Original Pythia8 card:   None\n",
      "15:43 madminer.core        INFO      Copied run card:         /madminer/cards/run_card_0.dat\n",
      "15:43 madminer.core        INFO      Copied Pythia8 card:     None\n",
      "15:43 madminer.core        INFO      Param card:              /madminer/cards/param_card_0.dat\n",
      "15:43 madminer.core        INFO      Reweight card:           /madminer/cards/reweight_card_0.dat\n",
      "15:43 madminer.core        INFO      Log file:                run_0.log\n",
      "15:43 madminer.core        INFO    Creating param and reweight cards in ./mg_processes/signal_systematics//madminer/cards/param_card_0.dat, ./mg_processes/signal_systematics//madminer/cards/reweight_card_0.dat\n",
      "15:43 madminer.utils.inter INFO    Starting MadGraph and Pythia in ./mg_processes/signal_systematics\n",
      "15:49 madminer.core        INFO    Finished running MadGraph! Please check that events were succesfully generated in the following folders:\n",
      "\n",
      "./mg_processes/signal_systematics/Events/run_01\n",
      "\n",
      "\n"
     ]
    }
   ],
   "source": [
    "miner.run(\n",
    "    sample_benchmark='sm',\n",
    "    mg_directory=mg_dir,\n",
    "    mg_process_directory='./mg_processes/signal_systematics',\n",
    "    proc_card_file='cards/proc_card_signal.dat',\n",
    "    param_card_template_file='cards/param_card_template.dat',\n",
    "    run_card_file='cards/run_card_signal_small.dat',\n",
    "    log_directory='logs/signal',\n",
    "    python2_override=True,\n",
    "    systematics=[\"signal_norm\", \"scales\"],\n",
    ")"
   ]
  },
  {
   "cell_type": "code",
   "execution_count": 11,
   "metadata": {},
   "outputs": [
    {
     "name": "stderr",
     "output_type": "stream",
     "text": [
      "15:49 madminer.utils.inter INFO    Generating MadGraph process folder from cards/proc_card_background.dat at ./mg_processes/bkg_systematics\n",
      "15:49 madminer.core        INFO    Run 0\n",
      "15:49 madminer.core        INFO      Sampling from benchmark: sm\n",
      "15:49 madminer.core        INFO      Original run card:       cards/run_card_background.dat\n",
      "15:49 madminer.core        INFO      Original Pythia8 card:   None\n",
      "15:49 madminer.core        INFO      Copied run card:         /madminer/cards/run_card_0.dat\n",
      "15:49 madminer.core        INFO      Copied Pythia8 card:     None\n",
      "15:49 madminer.core        INFO      Param card:              /madminer/cards/param_card_0.dat\n",
      "15:49 madminer.core        INFO      Reweight card:           /madminer/cards/reweight_card_0.dat\n",
      "15:49 madminer.core        INFO      Log file:                run_0.log\n",
      "15:49 madminer.core        INFO    Creating param and reweight cards in ./mg_processes/bkg_systematics//madminer/cards/param_card_0.dat, ./mg_processes/bkg_systematics//madminer/cards/reweight_card_0.dat\n",
      "15:49 madminer.utils.inter INFO    Starting MadGraph and Pythia in ./mg_processes/bkg_systematics\n",
      "17:18 madminer.core        INFO    Finished running MadGraph! Please check that events were succesfully generated in the following folders:\n",
      "\n",
      "./mg_processes/bkg_systematics/Events/run_01\n",
      "\n",
      "\n"
     ]
    }
   ],
   "source": [
    "miner.run(\n",
    "    sample_benchmark='sm',\n",
    "    mg_directory=mg_dir,\n",
    "    mg_process_directory='./mg_processes/bkg_systematics',\n",
    "    proc_card_file='cards/proc_card_background.dat',\n",
    "    param_card_template_file='cards/param_card_template.dat',\n",
    "    run_card_file='cards/run_card_background.dat',\n",
    "    log_directory='logs/background',\n",
    "    python2_override=True,\n",
    "    systematics=[\"bkg_norm\", \"scales\"],\n",
    ")"
   ]
  },
  {
   "cell_type": "markdown",
   "metadata": {},
   "source": [
    "## 4. Load events from LHE file"
   ]
  },
  {
   "cell_type": "markdown",
   "metadata": {},
   "source": [
    "When adding LHE or Delphes files, use the `systematics` keyword to list which systematic uncertainties apply to which sample:"
   ]
  },
  {
   "cell_type": "code",
   "execution_count": 4,
   "metadata": {},
   "outputs": [
    {
     "name": "stderr",
     "output_type": "stream",
     "text": [
      "11:11 madminer.utils.inter DEBUG   HDF5 file does not contain is_reference field.\n",
      "11:11 madminer.lhe         DEBUG   Adding event sample mg_processes/signal_systematics/Events/run_01/unweighted_events.lhe.gz\n",
      "11:11 madminer.lhe         DEBUG   Adding event sample mg_processes/bkg_systematics/Events/run_01/unweighted_events.lhe.gz\n"
     ]
    }
   ],
   "source": [
    "lhe = LHEReader('data/setup_systematics.h5')\n",
    "\n",
    "lhe.add_sample(\n",
    "    lhe_filename='mg_processes/signal_systematics/Events/run_01/unweighted_events.lhe.gz',\n",
    "    sampled_from_benchmark='sm',\n",
    "    is_background=False,\n",
    "    k_factor=1.1,\n",
    "    systematics=[\"signal_norm\", \"scales\"]\n",
    ")\n",
    "\n",
    "lhe.add_sample(\n",
    "    lhe_filename='mg_processes/bkg_systematics/Events/run_01/unweighted_events.lhe.gz',\n",
    "    sampled_from_benchmark='sm',\n",
    "    is_background=True,\n",
    "    k_factor=1.1,\n",
    "    systematics=[\"bkg_norm\", \"scales\"]\n",
    ")"
   ]
  },
  {
   "cell_type": "markdown",
   "metadata": {},
   "source": [
    "The next steps are unaffected by systematics."
   ]
  },
  {
   "cell_type": "code",
   "execution_count": 5,
   "metadata": {},
   "outputs": [
    {
     "name": "stderr",
     "output_type": "stream",
     "text": [
      "11:11 madminer.lhe         DEBUG   Adding optional observable pt_j1 = j[0].pt with default 0.0\n",
      "11:11 madminer.lhe         DEBUG   Adding required observable delta_phi_jj = j[0].deltaphi(j[1]) * (-1. + 2.*float(j[0].eta > j[1].eta))\n",
      "11:11 madminer.lhe         DEBUG   Adding required observable met = met.pt\n",
      "11:11 madminer.lhe         DEBUG   Adding cut (a[0] + a[1]).m > 122.\n",
      "11:11 madminer.lhe         DEBUG   Adding cut (a[0] + a[1]).m < 128.\n",
      "11:11 madminer.lhe         DEBUG   Adding cut pt_j1 > 30.\n"
     ]
    }
   ],
   "source": [
    "lhe.set_smearing(\n",
    "    pdgids=[1,2,3,4,5,6,9,21,-1,-2,-3,-4,-5,-6],   # Partons giving rise to jets\n",
    "    energy_resolution_abs=0.,\n",
    "    energy_resolution_rel=0.1,\n",
    "    pt_resolution_abs=None,\n",
    "    pt_resolution_rel=None,\n",
    "    eta_resolution_abs=0.1,\n",
    "    eta_resolution_rel=0.,\n",
    "    phi_resolution_abs=0.1,\n",
    "    phi_resolution_rel=0.,\n",
    ")\n",
    "\n",
    "lhe.add_observable(\n",
    "    'pt_j1',\n",
    "    'j[0].pt',\n",
    "    required=False,\n",
    "    default=0.,\n",
    ")\n",
    "lhe.add_observable(\n",
    "    'delta_phi_jj',\n",
    "    'j[0].deltaphi(j[1]) * (-1. + 2.*float(j[0].eta > j[1].eta))',\n",
    "    required=True,\n",
    ")\n",
    "lhe.add_observable(\n",
    "    'met',\n",
    "    'met.pt',\n",
    "    required=True,\n",
    ")\n",
    "\n",
    "lhe.add_cut('(a[0] + a[1]).m > 122.')\n",
    "lhe.add_cut('(a[0] + a[1]).m < 128.')\n",
    "lhe.add_cut('pt_j1 > 30.')"
   ]
  },
  {
   "cell_type": "code",
   "execution_count": 6,
   "metadata": {
    "scrolled": false
   },
   "outputs": [
    {
     "name": "stderr",
     "output_type": "stream",
     "text": [
      "11:11 madminer.lhe         INFO    Analysing LHE sample mg_processes/signal_systematics/Events/run_01/unweighted_events.lhe.gz: Calculating 3 observables, requiring 3 selection cuts, using 0 efficiency factors, associated with systematics signal_norm, scales\n",
      "11:11 madminer.lhe         DEBUG   Extracting nuisance parameter definitions from LHE file\n",
      "11:11 madminer.utils.inter DEBUG   Parsing nuisance parameter setup from LHE file at mg_processes/signal_systematics/Events/run_01/unweighted_events.lhe.gz\n",
      "11:11 madminer.utils.inter DEBUG   Systematics setup: OrderedDict([(u'signal_norm', (u'norm', 1.1)), (u'scales', (u'scale', 'mu', '0.5,1.0,2.0'))])\n",
      "11:11 madminer.utils.inter DEBUG   3 weight groups\n",
      "11:11 madminer.utils.inter DEBUG   Extracting nuisance parameter information for systematic signal_norm\n",
      "11:11 madminer.utils.inter DEBUG   Extracting nuisance parameter information for systematic scales\n",
      "11:11 madminer.utils.inter DEBUG   New weight group: Central scale variation\n",
      "11:11 madminer.utils.inter DEBUG   Weight group identified as scale variation\n",
      "11:11 root                 DEBUG   Found scale variation weight 1 / muf = 0.5, mur = 0.5\n",
      "11:11 root                 DEBUG   Found scale variation weight 2 / muf = 1.0, mur = 0.5\n",
      "11:11 root                 DEBUG   Found scale variation weight 3 / muf = 2.0, mur = 0.5\n",
      "11:11 root                 DEBUG   Found scale variation weight 4 / muf = 0.5, mur = 1.0\n",
      "11:11 root                 DEBUG   Found scale variation weight 5 / muf = 2.0, mur = 1.0\n",
      "11:11 root                 DEBUG   Found scale variation weight 6 / muf = 0.5, mur = 2.0\n",
      "11:11 root                 DEBUG   Found scale variation weight 7 / muf = 1.0, mur = 2.0\n",
      "11:11 root                 DEBUG   Found scale variation weight 8 / muf = 2.0, mur = 2.0\n",
      "11:11 madminer.utils.inter DEBUG   New weight group: NNPDF23_lo_as_0130_qed\n",
      "11:11 madminer.utils.inter DEBUG   New weight group: mg_reweighting\n",
      "11:11 madminer.utils.inter DEBUG   New weight group: Central scale variation\n",
      "11:11 madminer.utils.inter DEBUG   Weight group identified as scale variation\n",
      "11:11 root                 DEBUG   Found scale variation weight 1 / muf = 0.5, mur = 0.5\n",
      "11:11 madminer.utils.inter DEBUG   New weight group: NNPDF23_lo_as_0130_qed\n",
      "11:11 madminer.utils.inter DEBUG   New weight group: mg_reweighting\n",
      "11:11 madminer.lhe         DEBUG   systematics_dict: OrderedDict([(u'signal_norm', {u'signal_norm_nuisance_param_0': ((u'signal_norm_nuisance_param_0_benchmark_0', None), (None, None), 1.1)}), (u'scales', {u'scales_nuisance_param_0': ((u'scales_nuisance_param_0_benchmark_0', '8'), (u'scales_nuisance_param_0_benchmark_1', '1'), None)})])\n",
      "11:11 madminer.utils.inter DEBUG   Parsing LHE file mg_processes/signal_systematics/Events/run_01/unweighted_events.lhe.gz\n",
      "11:11 madminer.utils.inter DEBUG   Parsing header and events as XML with cElementTree\n",
      "11:11 madminer.utils.inter DEBUG   Found entry event_norm = sum in LHE header. Interpreting this as weight_norm_is_average = False.\n",
      "11:11 madminer.utils.inter DEBUG   Event 1 passes observations, passes cuts, passes efficiencies -> passes\n",
      "11:11 madminer.utils.inter DEBUG   Event 2 passes observations, passes cuts, passes efficiencies -> passes\n",
      "11:11 madminer.utils.inter DEBUG   Event 3 passes observations, passes cuts, passes efficiencies -> passes\n",
      "11:11 madminer.utils.inter DEBUG   Event 4 passes observations, passes cuts, passes efficiencies -> passes\n",
      "11:11 madminer.utils.inter DEBUG   Event 5 passes observations, passes cuts, passes efficiencies -> passes\n",
      "11:11 madminer.utils.inter DEBUG   Event 6 passes observations, passes cuts, passes efficiencies -> passes\n",
      "11:11 madminer.utils.inter DEBUG   Event 7 passes observations, passes cuts, passes efficiencies -> passes\n",
      "11:11 madminer.utils.inter DEBUG   Event 8 passes observations, passes cuts, passes efficiencies -> passes\n",
      "11:11 madminer.utils.inter DEBUG   Event 9 passes observations, passes cuts, passes efficiencies -> passes\n",
      "11:11 madminer.utils.inter DEBUG   Event 10 passes observations, passes cuts, passes efficiencies -> passes\n",
      "11:11 madminer.utils.inter DEBUG   Event 11 passes observations, passes cuts, passes efficiencies -> passes\n",
      "11:11 madminer.utils.inter DEBUG   Event 12 passes observations, passes cuts, passes efficiencies -> passes\n",
      "11:11 madminer.utils.inter DEBUG   Event 13 passes observations, passes cuts, passes efficiencies -> passes\n",
      "11:11 madminer.utils.inter DEBUG   Event 14 passes observations, passes cuts, passes efficiencies -> passes\n",
      "11:11 madminer.utils.inter DEBUG   Event 15 passes observations, passes cuts, passes efficiencies -> passes\n",
      "11:11 madminer.utils.inter DEBUG   Event 16 passes observations, passes cuts, passes efficiencies -> passes\n",
      "11:11 madminer.utils.inter DEBUG   Event 17 passes observations, passes cuts, passes efficiencies -> passes\n",
      "11:11 madminer.utils.inter DEBUG   Event 18 passes observations, passes cuts, passes efficiencies -> passes\n",
      "11:11 madminer.utils.inter DEBUG   Event 19 passes observations, passes cuts, passes efficiencies -> passes\n",
      "11:11 madminer.utils.inter DEBUG   Event 20 passes observations, passes cuts, passes efficiencies -> passes\n",
      "11:12 madminer.utils.inter INFO      10000 / 10000 events pass cut (a[0] + a[1]).m > 122.\n",
      "11:12 madminer.utils.inter INFO      10000 / 10000 events pass cut (a[0] + a[1]).m < 128.\n",
      "11:12 madminer.utils.inter INFO      9858 / 10000 events pass cut pt_j1 > 30.\n",
      "11:12 madminer.utils.inter INFO      9858 events pass all cuts/efficiencies\n",
      "11:12 madminer.lhe         DEBUG   Found weights [u'sm', u'w', u'neg_w', u'ww', u'neg_ww', u'morphing_basis_vector_5', u'signal_norm_nuisance_param_0_benchmark_0', u'scales_nuisance_param_0_benchmark_0', u'scales_nuisance_param_0_benchmark_1'] in LHE file\n",
      "11:12 madminer.lhe         DEBUG   Found 9858 events\n",
      "11:12 madminer.lhe         INFO    Analysing LHE sample mg_processes/bkg_systematics/Events/run_01/unweighted_events.lhe.gz: Calculating 3 observables, requiring 3 selection cuts, using 0 efficiency factors, associated with systematics bkg_norm, scales\n",
      "11:12 madminer.lhe         DEBUG   Extracting nuisance parameter definitions from LHE file\n",
      "11:12 madminer.utils.inter DEBUG   Parsing nuisance parameter setup from LHE file at mg_processes/bkg_systematics/Events/run_01/unweighted_events.lhe.gz\n",
      "11:12 madminer.utils.inter DEBUG   Systematics setup: OrderedDict([(u'bkg_norm', (u'norm', 1.2)), (u'scales', (u'scale', 'mu', '0.5,1.0,2.0'))])\n",
      "11:12 madminer.utils.inter DEBUG   3 weight groups\n",
      "11:12 madminer.utils.inter DEBUG   Extracting nuisance parameter information for systematic bkg_norm\n",
      "11:12 madminer.utils.inter DEBUG   Extracting nuisance parameter information for systematic scales\n",
      "11:12 madminer.utils.inter DEBUG   New weight group: Central scale variation\n",
      "11:12 madminer.utils.inter DEBUG   Weight group identified as scale variation\n",
      "11:12 root                 DEBUG   Found scale variation weight 1 / muf = 0.5, mur = 0.5\n",
      "11:12 root                 DEBUG   Found scale variation weight 2 / muf = 1.0, mur = 0.5\n",
      "11:12 root                 DEBUG   Found scale variation weight 3 / muf = 2.0, mur = 0.5\n",
      "11:12 root                 DEBUG   Found scale variation weight 4 / muf = 0.5, mur = 1.0\n",
      "11:12 root                 DEBUG   Found scale variation weight 5 / muf = 2.0, mur = 1.0\n",
      "11:12 root                 DEBUG   Found scale variation weight 6 / muf = 0.5, mur = 2.0\n",
      "11:12 root                 DEBUG   Found scale variation weight 7 / muf = 1.0, mur = 2.0\n",
      "11:12 root                 DEBUG   Found scale variation weight 8 / muf = 2.0, mur = 2.0\n",
      "11:12 madminer.utils.inter DEBUG   New weight group: NNPDF23_lo_as_0130_qed\n",
      "11:12 madminer.utils.inter DEBUG   New weight group: mg_reweighting\n",
      "11:12 madminer.utils.inter DEBUG   New weight group: Central scale variation\n",
      "11:12 madminer.utils.inter DEBUG   Weight group identified as scale variation\n",
      "11:12 root                 DEBUG   Found scale variation weight 1 / muf = 0.5, mur = 0.5\n",
      "11:12 madminer.utils.inter DEBUG   New weight group: NNPDF23_lo_as_0130_qed\n",
      "11:12 madminer.utils.inter DEBUG   New weight group: mg_reweighting\n",
      "11:12 madminer.lhe         DEBUG   systematics_dict: OrderedDict([(u'bkg_norm', {u'bkg_norm_nuisance_param_0': ((u'bkg_norm_nuisance_param_0_benchmark_0', None), (None, None), 1.2)}), (u'scales', {u'scales_nuisance_param_0': ((u'scales_nuisance_param_0_benchmark_0', '8'), (u'scales_nuisance_param_0_benchmark_1', '1'), None)})])\n"
     ]
    },
    {
     "name": "stderr",
     "output_type": "stream",
     "text": [
      "11:12 madminer.utils.inter DEBUG   Parsing LHE file mg_processes/bkg_systematics/Events/run_01/unweighted_events.lhe.gz\n",
      "11:12 madminer.utils.inter DEBUG   Parsing header and events as XML with cElementTree\n",
      "11:12 madminer.utils.inter DEBUG   Found entry event_norm = sum in LHE header. Interpreting this as weight_norm_is_average = False.\n",
      "11:12 madminer.utils.inter DEBUG   Event 1 passes observations, passes cuts, passes efficiencies -> passes\n",
      "11:12 madminer.utils.inter DEBUG   Event 2 passes observations, passes cuts, passes efficiencies -> passes\n",
      "11:12 madminer.utils.inter DEBUG   Event 3 passes observations, passes cuts, passes efficiencies -> passes\n",
      "11:12 madminer.utils.inter DEBUG   Event 4 passes observations, passes cuts, passes efficiencies -> passes\n",
      "11:12 madminer.utils.inter DEBUG   Event 5 passes observations, passes cuts, passes efficiencies -> passes\n",
      "11:12 madminer.utils.inter DEBUG   Event 6 passes observations, passes cuts, passes efficiencies -> passes\n",
      "11:12 madminer.utils.inter DEBUG   Event 7 passes observations, passes cuts, passes efficiencies -> passes\n",
      "11:12 madminer.utils.inter DEBUG   Event 8 passes observations, passes cuts, passes efficiencies -> passes\n",
      "11:12 madminer.utils.inter DEBUG   Event 9 passes observations, passes cuts, passes efficiencies -> passes\n",
      "11:12 madminer.utils.inter DEBUG   Event 10 passes observations, passes cuts, passes efficiencies -> passes\n",
      "11:12 madminer.utils.inter DEBUG   Event 11 passes observations, passes cuts, passes efficiencies -> passes\n",
      "11:12 madminer.utils.inter DEBUG   Event 12 passes observations, passes cuts, passes efficiencies -> passes\n",
      "11:12 madminer.utils.inter DEBUG   Event 13 passes observations, passes cuts, passes efficiencies -> passes\n",
      "11:12 madminer.utils.inter DEBUG   Event 14 passes observations, passes cuts, passes efficiencies -> passes\n",
      "11:12 madminer.utils.inter DEBUG   Event 15 passes observations, passes cuts, passes efficiencies -> passes\n",
      "11:12 madminer.utils.inter DEBUG   Event 16 passes observations, passes cuts, passes efficiencies -> passes\n",
      "11:12 madminer.utils.inter DEBUG   Event 17 passes observations, passes cuts, passes efficiencies -> passes\n",
      "11:12 madminer.utils.inter DEBUG   Event 18 passes observations, passes cuts, passes efficiencies -> passes\n",
      "11:12 madminer.utils.inter DEBUG   Event 19 passes observations, passes cuts, passes efficiencies -> passes\n",
      "11:12 madminer.utils.inter DEBUG   Event 20 passes observations, passes cuts, passes efficiencies -> passes\n",
      "11:13 madminer.utils.inter INFO      50000 / 50000 events pass cut (a[0] + a[1]).m > 122.\n",
      "11:13 madminer.utils.inter INFO      50000 / 50000 events pass cut (a[0] + a[1]).m < 128.\n",
      "11:13 madminer.utils.inter INFO      47829 / 50000 events pass cut pt_j1 > 30.\n",
      "11:13 madminer.utils.inter INFO      47829 events pass all cuts/efficiencies\n",
      "11:13 madminer.lhe         DEBUG   Found weights [u'sm', u'w', u'neg_w', u'ww', u'neg_ww', u'morphing_basis_vector_5', u'bkg_norm_nuisance_param_0_benchmark_0', u'scales_nuisance_param_0_benchmark_0', u'scales_nuisance_param_0_benchmark_1'] in LHE file\n",
      "11:13 madminer.lhe         DEBUG   Found 47829 events\n",
      "11:13 root                 DEBUG   Merging data extracted from this file with data from previous files\n",
      "11:13 root                 DEBUG     Weights for benchmark sm exist in both\n",
      "11:13 root                 DEBUG     Weights for benchmark w exist in both\n",
      "11:13 root                 DEBUG     Weights for benchmark neg_w exist in both\n",
      "11:13 root                 DEBUG     Weights for benchmark ww exist in both\n",
      "11:13 root                 DEBUG     Weights for benchmark neg_ww exist in both\n",
      "11:13 root                 DEBUG     Weights for benchmark morphing_basis_vector_5 exist in both\n",
      "11:13 root                 DEBUG     Weights for benchmark signal_norm_nuisance_param_0_benchmark_0 exist only in previous files\n",
      "11:13 root                 DEBUG     Weights for benchmark scales_nuisance_param_0_benchmark_0 exist in both\n",
      "11:13 root                 DEBUG     Weights for benchmark scales_nuisance_param_0_benchmark_1 exist in both\n",
      "11:13 root                 DEBUG     Weights for benchmark bkg_norm_nuisance_param_0_benchmark_0 exist only in new file\n",
      "11:13 madminer.lhe         INFO    Analysed number of events per sampling benchmark:\n",
      "11:13 madminer.lhe         INFO      9858 from sm\n",
      "11:13 madminer.lhe         INFO      47829 from backgrounds\n",
      "11:13 madminer.lhe         DEBUG   Loading HDF5 data from data/setup_systematics.h5 and saving file to data/lhe_data_systematics.h5\n",
      "11:13 madminer.lhe         DEBUG   Weight names: [u'sm', u'w', u'neg_w', u'ww', u'neg_ww', u'morphing_basis_vector_5', u'signal_norm_nuisance_param_0_benchmark_0', u'scales_nuisance_param_0_benchmark_0', u'scales_nuisance_param_0_benchmark_1', u'bkg_norm_nuisance_param_0_benchmark_0']\n",
      "11:13 madminer.utils.inter DEBUG   HDF5 file does not contain is_reference field.\n",
      "11:13 madminer.utils.inter DEBUG   Adding nuisance benchmark bkg_norm_nuisance_param_0_benchmark_0\n",
      "11:13 madminer.utils.inter DEBUG   Benchmark morphing_basis_vector_5 already in benchmark_names_phys\n",
      "11:13 madminer.utils.inter DEBUG   Benchmark neg_w already in benchmark_names_phys\n",
      "11:13 madminer.utils.inter DEBUG   Benchmark neg_ww already in benchmark_names_phys\n",
      "11:13 madminer.utils.inter DEBUG   Adding nuisance benchmark scales_nuisance_param_0_benchmark_0\n",
      "11:13 madminer.utils.inter DEBUG   Adding nuisance benchmark scales_nuisance_param_0_benchmark_1\n",
      "11:13 madminer.utils.inter DEBUG   Adding nuisance benchmark signal_norm_nuisance_param_0_benchmark_0\n",
      "11:13 madminer.utils.inter DEBUG   Benchmark sm already in benchmark_names_phys\n",
      "11:13 madminer.utils.inter DEBUG   Benchmark w already in benchmark_names_phys\n",
      "11:13 madminer.utils.inter DEBUG   Benchmark ww already in benchmark_names_phys\n",
      "11:13 madminer.utils.inter DEBUG   Combined benchmark names: [u'sm', u'w', u'neg_w', u'ww', u'neg_ww', u'morphing_basis_vector_5', u'bkg_norm_nuisance_param_0_benchmark_0', u'scales_nuisance_param_0_benchmark_0', u'scales_nuisance_param_0_benchmark_1', u'signal_norm_nuisance_param_0_benchmark_0']\n",
      "11:13 madminer.utils.inter DEBUG   Combined is_nuisance: [0 0 0 0 0 0 1 1 1 1]\n",
      "11:13 madminer.utils.inter DEBUG   Combined is_reference: [1 0 0 0 0 0 0 0 0 0]\n",
      "11:13 madminer.utils.inter DEBUG   Weight names found in event file: [u'sm', u'w', u'neg_w', u'ww', u'neg_ww', u'morphing_basis_vector_5', u'signal_norm_nuisance_param_0_benchmark_0', u'scales_nuisance_param_0_benchmark_0', u'scales_nuisance_param_0_benchmark_1', u'bkg_norm_nuisance_param_0_benchmark_0']\n",
      "11:13 madminer.utils.inter DEBUG   Benchmarks found in MadMiner file: [u'sm', u'w', u'neg_w', u'ww', u'neg_ww', u'morphing_basis_vector_5', u'bkg_norm_nuisance_param_0_benchmark_0', u'scales_nuisance_param_0_benchmark_0', u'scales_nuisance_param_0_benchmark_1', u'signal_norm_nuisance_param_0_benchmark_0']\n"
     ]
    }
   ],
   "source": [
    "lhe.analyse_samples()\n",
    "lhe.save('data/lhe_data_systematics.h5')"
   ]
  },
  {
   "cell_type": "markdown",
   "metadata": {},
   "source": [
    "### A look at distributions"
   ]
  },
  {
   "cell_type": "markdown",
   "metadata": {},
   "source": [
    "The function `plot_systematics()` makes it easy to check the effect of the various nuisance parameters on a distribution:"
   ]
  },
  {
   "cell_type": "code",
   "execution_count": 6,
   "metadata": {},
   "outputs": [],
   "source": [
    "plot_systematics?"
   ]
  },
  {
   "cell_type": "code",
   "execution_count": 5,
   "metadata": {},
   "outputs": [
    {
     "name": "stderr",
     "output_type": "stream",
     "text": [
      "11:23 madminer.analysis    INFO    Loading data from data/lhe_data_systematics.h5\n",
      "11:23 madminer.analysis    INFO    Found 2 parameters\n",
      "11:23 madminer.analysis    DEBUG      CWL2 (LHA: dim6 2, maximal power in squared ME: (2,), range: (-20.0, 20.0))\n",
      "11:23 madminer.analysis    DEBUG      CPWL2 (LHA: dim6 5, maximal power in squared ME: (2,), range: (-20.0, 20.0))\n",
      "11:23 madminer.analysis    INFO    Found 3 nuisance parameters\n",
      "11:23 madminer.analysis    DEBUG      signal_norm_nuisance_param_0 ((u'signal_norm', u'signal_norm_nuisance_param_0_benchmark_0', None))\n",
      "11:23 madminer.analysis    DEBUG      scales_nuisance_param_0 ((u'scales', u'scales_nuisance_param_0_benchmark_0', u'scales_nuisance_param_0_benchmark_1'))\n",
      "11:23 madminer.analysis    DEBUG      bkg_norm_nuisance_param_0 ((u'bkg_norm', u'bkg_norm_nuisance_param_0_benchmark_0', None))\n",
      "11:23 madminer.analysis    INFO    Found 10 benchmarks, of which 6 physical\n",
      "11:23 madminer.analysis    DEBUG      sm: CWL2 = 0.00e+00, CPWL2 = 0.00e+00\n",
      "11:23 madminer.analysis    DEBUG      w: CWL2 = 15.20, CPWL2 = 0.10\n",
      "11:23 madminer.analysis    DEBUG      neg_w: CWL2 = -1.54e+01, CPWL2 = 0.20\n",
      "11:23 madminer.analysis    DEBUG      ww: CWL2 = 0.30, CPWL2 = 15.10\n",
      "11:23 madminer.analysis    DEBUG      neg_ww: CWL2 = 0.40, CPWL2 = -1.53e+01\n",
      "11:23 madminer.analysis    DEBUG      morphing_basis_vector_5: CWL2 = -1.68e+01, CPWL2 = -1.72e+01\n",
      "11:23 madminer.analysis    DEBUG      bkg_norm_nuisance_param_0_benchmark_0: systematics\n",
      "11:23 madminer.analysis    DEBUG      scales_nuisance_param_0_benchmark_0: systematics\n",
      "11:23 madminer.analysis    DEBUG      scales_nuisance_param_0_benchmark_1: systematics\n",
      "11:23 madminer.analysis    DEBUG      signal_norm_nuisance_param_0_benchmark_0: systematics\n",
      "11:23 madminer.analysis    INFO    Found 3 observables\n",
      "11:23 madminer.analysis    DEBUG      0 pt_j1\n",
      "11:23 madminer.analysis    DEBUG      1 delta_phi_jj\n",
      "11:23 madminer.analysis    DEBUG      2 met\n",
      "11:23 madminer.analysis    INFO    Found 57687 events\n",
      "11:23 madminer.analysis    INFO      9858 signal events sampled from benchmark sm\n",
      "11:23 madminer.analysis    INFO      47829 background events\n",
      "11:23 madminer.analysis    INFO    Found morphing setup with 6 components\n",
      "11:23 madminer.analysis    INFO    Found nuisance morphing setup\n",
      "11:23 madminer.analysis    DEBUG   Sampling benchmark closest to None: None\n",
      "11:23 madminer.analysis    DEBUG   Events per benchmark: [9858.    0.    0.    0.    0.    0.]\n",
      "11:23 madminer.plotting    DEBUG   Systematics signal_norm based on 1 nuisance parameters\n",
      "11:23 madminer.plotting    DEBUG   Systematics bkg_norm based on 1 nuisance parameters\n",
      "11:23 madminer.plotting    DEBUG   Systematics scales based on 1 nuisance parameters\n"
     ]
    },
    {
     "data": {
      "image/png": "[encoded data removed]",
      "text/plain": [
       "<Figure size 720x504 with 4 Axes>"
      ]
     },
     "metadata": {
      "needs_background": "light"
     },
     "output_type": "display_data"
    }
   ],
   "source": [
    "_ = plot_systematics(\n",
    "    filename='data/lhe_data_systematics.h5',\n",
    "    theta=np.array([0.,0.]),\n",
    "    observable=\"pt_j1\",\n",
    "    obs_label=\"$p_{T,j}$\",\n",
    "    obs_range=(30.,400.),\n",
    "    ratio_range=(0.7,1.4)\n",
    ")"
   ]
  },
  {
   "cell_type": "code",
   "execution_count": 6,
   "metadata": {},
   "outputs": [
    {
     "name": "stderr",
     "output_type": "stream",
     "text": [
      "11:24 madminer.analysis    INFO    Loading data from data/lhe_data_systematics.h5\n",
      "11:24 madminer.analysis    INFO    Found 2 parameters\n",
      "11:24 madminer.analysis    DEBUG      CWL2 (LHA: dim6 2, maximal power in squared ME: (2,), range: (-20.0, 20.0))\n",
      "11:24 madminer.analysis    DEBUG      CPWL2 (LHA: dim6 5, maximal power in squared ME: (2,), range: (-20.0, 20.0))\n",
      "11:24 madminer.analysis    INFO    Found 3 nuisance parameters\n",
      "11:24 madminer.analysis    DEBUG      signal_norm_nuisance_param_0 ((u'signal_norm', u'signal_norm_nuisance_param_0_benchmark_0', None))\n",
      "11:24 madminer.analysis    DEBUG      scales_nuisance_param_0 ((u'scales', u'scales_nuisance_param_0_benchmark_0', u'scales_nuisance_param_0_benchmark_1'))\n",
      "11:24 madminer.analysis    DEBUG      bkg_norm_nuisance_param_0 ((u'bkg_norm', u'bkg_norm_nuisance_param_0_benchmark_0', None))\n",
      "11:24 madminer.analysis    INFO    Found 10 benchmarks, of which 6 physical\n",
      "11:24 madminer.analysis    DEBUG      sm: CWL2 = 0.00e+00, CPWL2 = 0.00e+00\n",
      "11:24 madminer.analysis    DEBUG      w: CWL2 = 15.20, CPWL2 = 0.10\n",
      "11:24 madminer.analysis    DEBUG      neg_w: CWL2 = -1.54e+01, CPWL2 = 0.20\n",
      "11:24 madminer.analysis    DEBUG      ww: CWL2 = 0.30, CPWL2 = 15.10\n",
      "11:24 madminer.analysis    DEBUG      neg_ww: CWL2 = 0.40, CPWL2 = -1.53e+01\n",
      "11:24 madminer.analysis    DEBUG      morphing_basis_vector_5: CWL2 = -1.68e+01, CPWL2 = -1.72e+01\n",
      "11:24 madminer.analysis    DEBUG      bkg_norm_nuisance_param_0_benchmark_0: systematics\n",
      "11:24 madminer.analysis    DEBUG      scales_nuisance_param_0_benchmark_0: systematics\n",
      "11:24 madminer.analysis    DEBUG      scales_nuisance_param_0_benchmark_1: systematics\n",
      "11:24 madminer.analysis    DEBUG      signal_norm_nuisance_param_0_benchmark_0: systematics\n",
      "11:24 madminer.analysis    INFO    Found 3 observables\n",
      "11:24 madminer.analysis    DEBUG      0 pt_j1\n",
      "11:24 madminer.analysis    DEBUG      1 delta_phi_jj\n",
      "11:24 madminer.analysis    DEBUG      2 met\n",
      "11:24 madminer.analysis    INFO    Found 57687 events\n",
      "11:24 madminer.analysis    INFO      9858 signal events sampled from benchmark sm\n",
      "11:24 madminer.analysis    INFO      47829 background events\n",
      "11:24 madminer.analysis    INFO    Found morphing setup with 6 components\n",
      "11:24 madminer.analysis    INFO    Found nuisance morphing setup\n",
      "11:24 madminer.analysis    DEBUG   Sampling benchmark closest to None: None\n",
      "11:24 madminer.analysis    DEBUG   Events per benchmark: [9858.    0.    0.    0.    0.    0.]\n",
      "11:24 madminer.plotting    DEBUG   Systematics signal_norm based on 1 nuisance parameters\n",
      "11:24 madminer.plotting    DEBUG   Systematics bkg_norm based on 1 nuisance parameters\n",
      "11:24 madminer.plotting    DEBUG   Systematics scales based on 1 nuisance parameters\n"
     ]
    },
    {
     "data": {
      "image/png": "[encoded data removed]",
      "text/plain": [
       "<Figure size 720x504 with 4 Axes>"
      ]
     },
     "metadata": {
      "needs_background": "light"
     },
     "output_type": "display_data"
    }
   ],
   "source": [
    "_ = plot_systematics(\n",
    "    filename='data/lhe_data_systematics.h5',\n",
    "    theta=np.array([0.,0.]),\n",
    "    observable=\"delta_phi_jj\",\n",
    "    obs_label=r\"$\\Delta\\phi$\",\n",
    "    obs_range=(-3.1,3.1),\n",
    "    ratio_range=(0.7,1.4)\n",
    ")"
   ]
  },
  {
   "cell_type": "markdown",
   "metadata": {},
   "source": [
    "## 5. Sampling"
   ]
  },
  {
   "cell_type": "markdown",
   "metadata": {},
   "source": [
    "Let's generate training data for the SALLY method."
   ]
  },
  {
   "cell_type": "code",
   "execution_count": 7,
   "metadata": {},
   "outputs": [
    {
     "name": "stderr",
     "output_type": "stream",
     "text": [
      "11:27 madminer.analysis    INFO    Loading data from data/lhe_data_systematics.h5\n",
      "11:27 madminer.analysis    INFO    Found 2 parameters\n",
      "11:27 madminer.analysis    DEBUG      CWL2 (LHA: dim6 2, maximal power in squared ME: (2,), range: (-20.0, 20.0))\n",
      "11:27 madminer.analysis    DEBUG      CPWL2 (LHA: dim6 5, maximal power in squared ME: (2,), range: (-20.0, 20.0))\n",
      "11:27 madminer.analysis    INFO    Found 3 nuisance parameters\n",
      "11:27 madminer.analysis    DEBUG      signal_norm_nuisance_param_0 ((u'signal_norm', u'signal_norm_nuisance_param_0_benchmark_0', None))\n",
      "11:27 madminer.analysis    DEBUG      scales_nuisance_param_0 ((u'scales', u'scales_nuisance_param_0_benchmark_0', u'scales_nuisance_param_0_benchmark_1'))\n",
      "11:27 madminer.analysis    DEBUG      bkg_norm_nuisance_param_0 ((u'bkg_norm', u'bkg_norm_nuisance_param_0_benchmark_0', None))\n",
      "11:27 madminer.analysis    INFO    Found 10 benchmarks, of which 6 physical\n",
      "11:27 madminer.analysis    DEBUG      sm: CWL2 = 0.00e+00, CPWL2 = 0.00e+00\n",
      "11:27 madminer.analysis    DEBUG      w: CWL2 = 15.20, CPWL2 = 0.10\n",
      "11:27 madminer.analysis    DEBUG      neg_w: CWL2 = -1.54e+01, CPWL2 = 0.20\n",
      "11:27 madminer.analysis    DEBUG      ww: CWL2 = 0.30, CPWL2 = 15.10\n",
      "11:27 madminer.analysis    DEBUG      neg_ww: CWL2 = 0.40, CPWL2 = -1.53e+01\n",
      "11:27 madminer.analysis    DEBUG      morphing_basis_vector_5: CWL2 = -1.68e+01, CPWL2 = -1.72e+01\n",
      "11:27 madminer.analysis    DEBUG      bkg_norm_nuisance_param_0_benchmark_0: systematics\n",
      "11:27 madminer.analysis    DEBUG      scales_nuisance_param_0_benchmark_0: systematics\n",
      "11:27 madminer.analysis    DEBUG      scales_nuisance_param_0_benchmark_1: systematics\n",
      "11:27 madminer.analysis    DEBUG      signal_norm_nuisance_param_0_benchmark_0: systematics\n",
      "11:27 madminer.analysis    INFO    Found 3 observables\n",
      "11:27 madminer.analysis    DEBUG      0 pt_j1\n",
      "11:27 madminer.analysis    DEBUG      1 delta_phi_jj\n",
      "11:27 madminer.analysis    DEBUG      2 met\n",
      "11:27 madminer.analysis    INFO    Found 57687 events\n",
      "11:27 madminer.analysis    INFO      9858 signal events sampled from benchmark sm\n",
      "11:27 madminer.analysis    INFO      47829 background events\n",
      "11:27 madminer.analysis    INFO    Found morphing setup with 6 components\n",
      "11:27 madminer.analysis    INFO    Found nuisance morphing setup\n",
      "11:27 madminer.sampling    INFO    Extracting training sample for local score regression. Sampling and score evaluation according to sm\n",
      "11:27 madminer.sampling    DEBUG   Starting sample extraction\n",
      "11:27 madminer.sampling    INFO    Starting sampling serially\n",
      "11:27 madminer.sampling    DEBUG   Will print training progress every 1 sets\n",
      "11:27 madminer.sampling    INFO    Sampling from parameter point 1 / 1\n",
      "11:27 madminer.sampling    DEBUG   Drawing 100000 events for the following parameter points:\n",
      "11:27 madminer.sampling    DEBUG     0: theta = [0. 0.], nu = None (sampling)\n",
      "11:27 madminer.analysis    DEBUG   Calculating cross sections for thetas = [u'sm'] and nus = [None]\n",
      "11:27 madminer.analysis    DEBUG   Sampling benchmark closest to [0. 0.]: 0\n",
      "11:27 madminer.analysis    DEBUG   xsecs and uncertainties [pb]:\n",
      "11:27 madminer.analysis    DEBUG     (0.010494 +/- 0.000058) pb (0.552236 %)\n",
      "11:27 madminer.analysis    DEBUG   Calculating cross section gradients for thetas = [u'sm'] and nus = [None]\n",
      "11:27 madminer.analysis    DEBUG   Sampling benchmark closest to [0. 0.]: 0\n",
      "11:27 madminer.analysis    DEBUG   Batch 1 with 34612 events\n",
      "11:27 madminer.sampling    DEBUG   Sampling from partition train, using weighted events 0 to 34612 and a correction factor 1.66666666667\n",
      "11:27 madminer.analysis    DEBUG   Sampling benchmark closest to [0. 0.]: 0\n",
      "11:27 madminer.sampling    DEBUG     Cumulative probability (should be close to 1): 0.9999999999995065\n",
      "11:27 madminer.sampling    INFO    Effective number of samples: mean 30130.740105470468, with individual thetas ranging from 30130.740105470468 to 30130.740105470468\n",
      "11:27 madminer.sampling    DEBUG   Effective number of samples for all thetas: [30130.74010547 30130.74010547 30130.74010547 ... 30130.74010547\n",
      " 30130.74010547 30130.74010547]\n"
     ]
    }
   ],
   "source": [
    "sampler = SampleAugmenter('data/lhe_data_systematics.h5', include_nuisance_parameters=True)\n",
    "\n",
    "x, theta, t_xz, _ = sampler.sample_train_local(\n",
    "    theta=sampling.benchmark('sm'),\n",
    "    n_samples=100000,\n",
    "    folder='./data/samples',\n",
    "    filename='train_score_systematics'\n",
    ")"
   ]
  },
  {
   "cell_type": "markdown",
   "metadata": {},
   "source": [
    "## 6. Training"
   ]
  },
  {
   "cell_type": "markdown",
   "metadata": {},
   "source": [
    "The SALLY estimator will learn the score in terms of both the physics parameters and the nuisance parameters. In our case, its output will therefore be a vector with five components."
   ]
  },
  {
   "cell_type": "code",
   "execution_count": 10,
   "metadata": {},
   "outputs": [
    {
     "name": "stderr",
     "output_type": "stream",
     "text": [
      "11:29 madminer.ml          INFO    Starting training\n",
      "11:29 madminer.ml          INFO      Batch size:             128\n",
      "11:29 madminer.ml          INFO      Optimizer:              amsgrad\n",
      "11:29 madminer.ml          INFO      Epochs:                 50\n",
      "11:29 madminer.ml          INFO      Learning rate:          0.001 initially, decaying to 0.0001\n",
      "11:29 madminer.ml          INFO      Validation split:       0.25\n",
      "11:29 madminer.ml          INFO      Early stopping:         True\n",
      "11:29 madminer.ml          INFO      Scale inputs:           True\n",
      "11:29 madminer.ml          INFO      Shuffle labels          False\n",
      "11:29 madminer.ml          INFO      Samples:                all\n",
      "11:29 madminer.ml          INFO    Loading training data\n",
      "11:29 madminer.utils.vario INFO      Loading data/samples/x_train_score_systematics.npy into RAM\n",
      "11:29 madminer.utils.vario INFO      Loading data/samples/t_xz_train_score_systematics.npy into RAM\n",
      "11:29 madminer.ml          INFO    Found 100000 samples with 5 parameters and 3 observables\n",
      "11:29 madminer.ml          INFO    Setting up input rescaling\n",
      "11:29 madminer.ml          INFO    Creating model\n",
      "11:29 madminer.ml          INFO    Training model\n",
      "11:29 madminer.utils.ml.tr INFO    Training on CPU with single precision\n",
      "11:29 madminer.utils.ml.tr DEBUG   Initialising training data\n",
      "11:29 madminer.utils.ml.tr DEBUG   Training data:\n",
      "11:29 madminer.utils.ml.tr DEBUG     x: shape (100000, 3), first [ 0.1499094 -0.8703383 -0.6764644], mean [-1.6620490e-06 -3.0627550e-08  7.5273755e-07], min [-0.9810185 -1.2922192 -1.008653 ], max [11.069061   1.2930026 17.653084 ]\n",
      "11:29 madminer.utils.ml.tr DEBUG     t_xz: shape (100000, 5), first [ 0.06507041  0.00125731 -0.01700781 -0.04920172  0.03253473], mean [-6.3074619e-04  1.6555152e-03 -7.2156312e-05 -2.1219793e-04\n",
      "  1.3823029e-04], min [-5.7848801e+01 -1.6493576e+01 -1.7007815e-02 -3.0026883e-01\n",
      " -1.4978682e-01], max [ 3.669      19.298151    0.07830236  0.26171386  0.03253473]\n",
      "11:29 madminer.utils.ml.tr DEBUG   Setting up optimizer\n",
      "11:29 madminer.utils.ml.tr DEBUG   Using early stopping with infinite patience\n",
      "11:29 madminer.utils.ml.tr DEBUG   Will print training progress every 3 epochs\n",
      "11:29 madminer.utils.ml.tr DEBUG   Beginning main training loop\n",
      "11:29 madminer.utils.ml.tr DEBUG   Training epoch 1 / 50\n",
      "11:29 madminer.utils.ml.tr DEBUG   Learning rate: 0.001\n",
      "11:29 madminer.utils.ml.tr DEBUG   Epoch   1: train loss  0.05749 (mse_score:  0.057)\n",
      "11:29 madminer.utils.ml.tr DEBUG              val. loss   0.05317 (mse_score:  0.053)\n",
      "11:29 madminer.utils.ml.tr DEBUG   Training epoch 2 / 50\n",
      "11:29 madminer.utils.ml.tr DEBUG   Learning rate: 0.00095409547635\n",
      "11:29 madminer.utils.ml.tr DEBUG   Epoch   2: train loss  0.05407 (mse_score:  0.054)\n",
      "11:29 madminer.utils.ml.tr DEBUG              val. loss   0.05050 (mse_score:  0.050)\n",
      "11:29 madminer.utils.ml.tr DEBUG   Training epoch 3 / 50\n",
      "11:29 madminer.utils.ml.tr DEBUG   Learning rate: 0.000910298177992\n",
      "11:29 madminer.utils.ml.tr INFO    Epoch   3: train loss  0.05199 (mse_score:  0.052)\n",
      "11:29 madminer.utils.ml.tr INFO               val. loss   0.04903 (mse_score:  0.049)\n",
      "11:29 madminer.utils.ml.tr DEBUG   Training epoch 4 / 50\n",
      "11:29 madminer.utils.ml.tr DEBUG   Learning rate: 0.000868511373751\n",
      "11:29 madminer.utils.ml.tr DEBUG   Epoch   4: train loss  0.05047 (mse_score:  0.050)\n",
      "11:29 madminer.utils.ml.tr DEBUG              val. loss   0.04704 (mse_score:  0.047)\n",
      "11:29 madminer.utils.ml.tr DEBUG   Training epoch 5 / 50\n",
      "11:29 madminer.utils.ml.tr DEBUG   Learning rate: 0.000828642772855\n",
      "11:29 madminer.utils.ml.tr DEBUG   Epoch   5: train loss  0.04944 (mse_score:  0.049)\n",
      "11:29 madminer.utils.ml.tr DEBUG              val. loss   0.04623 (mse_score:  0.046)\n",
      "11:29 madminer.utils.ml.tr DEBUG   Training epoch 6 / 50\n",
      "11:29 madminer.utils.ml.tr DEBUG   Learning rate: 0.000790604321091\n",
      "11:29 madminer.utils.ml.tr INFO    Epoch   6: train loss  0.04868 (mse_score:  0.049)\n",
      "11:29 madminer.utils.ml.tr INFO               val. loss   0.04519 (mse_score:  0.045)\n",
      "11:29 madminer.utils.ml.tr DEBUG   Training epoch 7 / 50\n",
      "11:29 madminer.utils.ml.tr DEBUG   Learning rate: 0.000754312006335\n",
      "11:29 madminer.utils.ml.tr DEBUG   Epoch   7: train loss  0.04815 (mse_score:  0.048)\n",
      "11:29 madminer.utils.ml.tr DEBUG              val. loss   0.04469 (mse_score:  0.045)\n",
      "11:29 madminer.utils.ml.tr DEBUG   Training epoch 8 / 50\n",
      "11:29 madminer.utils.ml.tr DEBUG   Learning rate: 0.000719685673001\n",
      "11:29 madminer.utils.ml.tr DEBUG   Epoch   8: train loss  0.04774 (mse_score:  0.048)\n",
      "11:29 madminer.utils.ml.tr DEBUG              val. loss   0.04426 (mse_score:  0.044)\n",
      "11:29 madminer.utils.ml.tr DEBUG   Training epoch 9 / 50\n",
      "11:29 madminer.utils.ml.tr DEBUG   Learning rate: 0.000686648845004\n",
      "11:29 madminer.utils.ml.tr INFO    Epoch   9: train loss  0.04751 (mse_score:  0.048)\n",
      "11:29 madminer.utils.ml.tr INFO               val. loss   0.04403 (mse_score:  0.044)\n",
      "11:29 madminer.utils.ml.tr DEBUG   Training epoch 10 / 50\n",
      "11:29 madminer.utils.ml.tr DEBUG   Learning rate: 0.00065512855686\n",
      "11:29 madminer.utils.ml.tr DEBUG   Epoch  10: train loss  0.04723 (mse_score:  0.047)\n",
      "11:29 madminer.utils.ml.tr DEBUG              val. loss   0.04487 (mse_score:  0.045)\n",
      "11:29 madminer.utils.ml.tr DEBUG   Training epoch 11 / 50\n",
      "11:29 madminer.utils.ml.tr DEBUG   Learning rate: 0.000625055192527\n",
      "11:29 madminer.utils.ml.tr DEBUG   Epoch  11: train loss  0.04704 (mse_score:  0.047)\n",
      "11:29 madminer.utils.ml.tr DEBUG              val. loss   0.04336 (mse_score:  0.043)\n",
      "11:29 madminer.utils.ml.tr DEBUG   Training epoch 12 / 50\n",
      "11:29 madminer.utils.ml.tr DEBUG   Learning rate: 0.000596362331659\n",
      "11:29 madminer.utils.ml.tr INFO    Epoch  12: train loss  0.04686 (mse_score:  0.047)\n",
      "11:29 madminer.utils.ml.tr INFO               val. loss   0.04340 (mse_score:  0.043)\n",
      "11:29 madminer.utils.ml.tr DEBUG   Training epoch 13 / 50\n",
      "11:29 madminer.utils.ml.tr DEBUG   Learning rate: 0.000568986602902\n",
      "11:29 madminer.utils.ml.tr DEBUG   Epoch  13: train loss  0.04662 (mse_score:  0.047)\n",
      "11:29 madminer.utils.ml.tr DEBUG              val. loss   0.04320 (mse_score:  0.043)\n",
      "11:29 madminer.utils.ml.tr DEBUG   Training epoch 14 / 50\n",
      "11:29 madminer.utils.ml.tr DEBUG   Learning rate: 0.000542867543932\n",
      "11:29 madminer.utils.ml.tr DEBUG   Epoch  14: train loss  0.04649 (mse_score:  0.046)\n",
      "11:29 madminer.utils.ml.tr DEBUG              val. loss   0.04283 (mse_score:  0.043)\n",
      "11:29 madminer.utils.ml.tr DEBUG   Training epoch 15 / 50\n",
      "11:29 madminer.utils.ml.tr DEBUG   Learning rate: 0.000517947467923\n",
      "11:29 madminer.utils.ml.tr INFO    Epoch  15: train loss  0.04640 (mse_score:  0.046)\n",
      "11:29 madminer.utils.ml.tr INFO               val. loss   0.04253 (mse_score:  0.043)\n",
      "11:29 madminer.utils.ml.tr DEBUG   Training epoch 16 / 50\n",
      "11:29 madminer.utils.ml.tr DEBUG   Learning rate: 0.000494171336132\n",
      "11:29 madminer.utils.ml.tr DEBUG   Epoch  16: train loss  0.04620 (mse_score:  0.046)\n",
      "11:29 madminer.utils.ml.tr DEBUG              val. loss   0.04238 (mse_score:  0.042)\n",
      "11:29 madminer.utils.ml.tr DEBUG   Training epoch 17 / 50\n",
      "11:29 madminer.utils.ml.tr DEBUG   Learning rate: 0.000471486636346\n",
      "11:29 madminer.utils.ml.tr DEBUG   Epoch  17: train loss  0.04614 (mse_score:  0.046)\n",
      "11:29 madminer.utils.ml.tr DEBUG              val. loss   0.04243 (mse_score:  0.042)\n",
      "11:29 madminer.utils.ml.tr DEBUG   Training epoch 18 / 50\n",
      "11:29 madminer.utils.ml.tr DEBUG   Learning rate: 0.000449843266897\n",
      "11:29 madminer.utils.ml.tr INFO    Epoch  18: train loss  0.04601 (mse_score:  0.046)\n",
      "11:29 madminer.utils.ml.tr INFO               val. loss   0.04219 (mse_score:  0.042)\n",
      "11:29 madminer.utils.ml.tr DEBUG   Training epoch 19 / 50\n",
      "11:29 madminer.utils.ml.tr DEBUG   Learning rate: 0.000429193426013\n",
      "11:29 madminer.utils.ml.tr DEBUG   Epoch  19: train loss  0.04591 (mse_score:  0.046)\n",
      "11:29 madminer.utils.ml.tr DEBUG              val. loss   0.04219 (mse_score:  0.042)\n",
      "11:29 madminer.utils.ml.tr DEBUG   Training epoch 20 / 50\n",
      "11:29 madminer.utils.ml.tr DEBUG   Learning rate: 0.000409491506238\n",
      "11:29 madminer.utils.ml.tr DEBUG   Epoch  20: train loss  0.04580 (mse_score:  0.046)\n",
      "11:29 madminer.utils.ml.tr DEBUG              val. loss   0.04193 (mse_score:  0.042)\n",
      "11:29 madminer.utils.ml.tr DEBUG   Training epoch 21 / 50\n"
     ]
    },
    {
     "name": "stderr",
     "output_type": "stream",
     "text": [
      "11:29 madminer.utils.ml.tr DEBUG   Learning rate: 0.000390693993705\n",
      "11:29 madminer.utils.ml.tr INFO    Epoch  21: train loss  0.04574 (mse_score:  0.046)\n",
      "11:29 madminer.utils.ml.tr INFO               val. loss   0.04177 (mse_score:  0.042)\n",
      "11:29 madminer.utils.ml.tr DEBUG   Training epoch 22 / 50\n",
      "11:29 madminer.utils.ml.tr DEBUG   Learning rate: 0.000372759372031\n",
      "11:29 madminer.utils.ml.tr DEBUG   Epoch  22: train loss  0.04564 (mse_score:  0.046)\n",
      "11:29 madminer.utils.ml.tr DEBUG              val. loss   0.04274 (mse_score:  0.043)\n",
      "11:29 madminer.utils.ml.tr DEBUG   Training epoch 23 / 50\n",
      "11:29 madminer.utils.ml.tr DEBUG   Learning rate: 0.000355648030622\n",
      "11:29 madminer.utils.ml.tr DEBUG   Epoch  23: train loss  0.04556 (mse_score:  0.046)\n",
      "11:29 madminer.utils.ml.tr DEBUG              val. loss   0.04160 (mse_score:  0.042)\n",
      "11:29 madminer.utils.ml.tr DEBUG   Training epoch 24 / 50\n",
      "11:29 madminer.utils.ml.tr DEBUG   Learning rate: 0.00033932217719\n",
      "11:29 madminer.utils.ml.tr INFO    Epoch  24: train loss  0.04552 (mse_score:  0.046)\n",
      "11:29 madminer.utils.ml.tr INFO               val. loss   0.04154 (mse_score:  0.042)\n",
      "11:29 madminer.utils.ml.tr DEBUG   Training epoch 25 / 50\n",
      "11:29 madminer.utils.ml.tr DEBUG   Learning rate: 0.000323745754282\n",
      "11:29 madminer.utils.ml.tr DEBUG   Epoch  25: train loss  0.04542 (mse_score:  0.045)\n",
      "11:29 madminer.utils.ml.tr DEBUG              val. loss   0.04150 (mse_score:  0.041)\n",
      "11:29 madminer.utils.ml.tr DEBUG   Training epoch 26 / 50\n",
      "11:29 madminer.utils.ml.tr DEBUG   Learning rate: 0.000308884359648\n",
      "11:30 madminer.utils.ml.tr DEBUG   Epoch  26: train loss  0.04533 (mse_score:  0.045)\n",
      "11:30 madminer.utils.ml.tr DEBUG              val. loss   0.04147 (mse_score:  0.041)\n",
      "11:30 madminer.utils.ml.tr DEBUG   Training epoch 27 / 50\n",
      "11:30 madminer.utils.ml.tr DEBUG   Learning rate: 0.000294705170255\n",
      "11:30 madminer.utils.ml.tr INFO    Epoch  27: train loss  0.04530 (mse_score:  0.045)\n",
      "11:30 madminer.utils.ml.tr INFO               val. loss   0.04139 (mse_score:  0.041)\n",
      "11:30 madminer.utils.ml.tr DEBUG   Training epoch 28 / 50\n",
      "11:30 madminer.utils.ml.tr DEBUG   Learning rate: 0.000281176869797\n",
      "11:30 madminer.utils.ml.tr DEBUG   Epoch  28: train loss  0.04524 (mse_score:  0.045)\n",
      "11:30 madminer.utils.ml.tr DEBUG              val. loss   0.04135 (mse_score:  0.041)\n",
      "11:30 madminer.utils.ml.tr DEBUG   Training epoch 29 / 50\n",
      "11:30 madminer.utils.ml.tr DEBUG   Learning rate: 0.000268269579528\n",
      "11:30 madminer.utils.ml.tr DEBUG   Epoch  29: train loss  0.04517 (mse_score:  0.045)\n",
      "11:30 madminer.utils.ml.tr DEBUG              val. loss   0.04112 (mse_score:  0.041)\n",
      "11:30 madminer.utils.ml.tr DEBUG   Training epoch 30 / 50\n",
      "11:30 madminer.utils.ml.tr DEBUG   Learning rate: 0.00025595479227\n",
      "11:30 madminer.utils.ml.tr INFO    Epoch  30: train loss  0.04514 (mse_score:  0.045)\n",
      "11:30 madminer.utils.ml.tr INFO               val. loss   0.04112 (mse_score:  0.041)\n",
      "11:30 madminer.utils.ml.tr DEBUG   Training epoch 31 / 50\n",
      "11:30 madminer.utils.ml.tr DEBUG   Learning rate: 0.000244205309455\n",
      "11:30 madminer.utils.ml.tr DEBUG   Epoch  31: train loss  0.04506 (mse_score:  0.045)\n",
      "11:30 madminer.utils.ml.tr DEBUG              val. loss   0.04158 (mse_score:  0.042)\n",
      "11:30 madminer.utils.ml.tr DEBUG   Training epoch 32 / 50\n",
      "11:30 madminer.utils.ml.tr DEBUG   Learning rate: 0.000232995181052\n",
      "11:30 madminer.utils.ml.tr DEBUG   Epoch  32: train loss  0.04506 (mse_score:  0.045)\n",
      "11:30 madminer.utils.ml.tr DEBUG              val. loss   0.04107 (mse_score:  0.041)\n",
      "11:30 madminer.utils.ml.tr DEBUG   Training epoch 33 / 50\n",
      "11:30 madminer.utils.ml.tr DEBUG   Learning rate: 0.000222299648253\n",
      "11:30 madminer.utils.ml.tr INFO    Epoch  33: train loss  0.04500 (mse_score:  0.045)\n",
      "11:30 madminer.utils.ml.tr INFO               val. loss   0.04101 (mse_score:  0.041)\n",
      "11:30 madminer.utils.ml.tr DEBUG   Training epoch 34 / 50\n",
      "11:30 madminer.utils.ml.tr DEBUG   Learning rate: 0.000212095088792\n",
      "11:30 madminer.utils.ml.tr DEBUG   Epoch  34: train loss  0.04493 (mse_score:  0.045)\n",
      "11:30 madminer.utils.ml.tr DEBUG              val. loss   0.04094 (mse_score:  0.041)\n",
      "11:30 madminer.utils.ml.tr DEBUG   Training epoch 35 / 50\n",
      "11:30 madminer.utils.ml.tr DEBUG   Learning rate: 0.000202358964773\n",
      "11:30 madminer.utils.ml.tr DEBUG   Epoch  35: train loss  0.04491 (mse_score:  0.045)\n",
      "11:30 madminer.utils.ml.tr DEBUG              val. loss   0.04080 (mse_score:  0.041)\n",
      "11:30 madminer.utils.ml.tr DEBUG   Training epoch 36 / 50\n",
      "11:30 madminer.utils.ml.tr DEBUG   Learning rate: 0.000193069772888\n",
      "11:30 madminer.utils.ml.tr INFO    Epoch  36: train loss  0.04487 (mse_score:  0.045)\n",
      "11:30 madminer.utils.ml.tr INFO               val. loss   0.04085 (mse_score:  0.041)\n",
      "11:30 madminer.utils.ml.tr DEBUG   Training epoch 37 / 50\n",
      "11:30 madminer.utils.ml.tr DEBUG   Learning rate: 0.000184206996933\n",
      "11:30 madminer.utils.ml.tr DEBUG   Epoch  37: train loss  0.04482 (mse_score:  0.045)\n",
      "11:30 madminer.utils.ml.tr DEBUG              val. loss   0.04081 (mse_score:  0.041)\n",
      "11:30 madminer.utils.ml.tr DEBUG   Training epoch 38 / 50\n",
      "11:30 madminer.utils.ml.tr DEBUG   Learning rate: 0.000175751062485\n",
      "11:30 madminer.utils.ml.tr DEBUG   Epoch  38: train loss  0.04481 (mse_score:  0.045)\n",
      "11:30 madminer.utils.ml.tr DEBUG              val. loss   0.04070 (mse_score:  0.041)\n",
      "11:30 madminer.utils.ml.tr DEBUG   Training epoch 39 / 50\n",
      "11:30 madminer.utils.ml.tr DEBUG   Learning rate: 0.000167683293681\n",
      "11:30 madminer.utils.ml.tr INFO    Epoch  39: train loss  0.04476 (mse_score:  0.045)\n",
      "11:30 madminer.utils.ml.tr INFO               val. loss   0.04069 (mse_score:  0.041)\n",
      "11:30 madminer.utils.ml.tr DEBUG   Training epoch 40 / 50\n",
      "11:30 madminer.utils.ml.tr DEBUG   Learning rate: 0.000159985871961\n",
      "11:30 madminer.utils.ml.tr DEBUG   Epoch  40: train loss  0.04474 (mse_score:  0.045)\n",
      "11:30 madminer.utils.ml.tr DEBUG              val. loss   0.04089 (mse_score:  0.041)\n",
      "11:30 madminer.utils.ml.tr DEBUG   Training epoch 41 / 50\n",
      "11:30 madminer.utils.ml.tr DEBUG   Learning rate: 0.000152641796718\n",
      "11:30 madminer.utils.ml.tr DEBUG   Epoch  41: train loss  0.04473 (mse_score:  0.045)\n",
      "11:30 madminer.utils.ml.tr DEBUG              val. loss   0.04064 (mse_score:  0.041)\n",
      "11:30 madminer.utils.ml.tr DEBUG   Training epoch 42 / 50\n",
      "11:30 madminer.utils.ml.tr DEBUG   Learning rate: 0.00014563484775\n",
      "11:30 madminer.utils.ml.tr INFO    Epoch  42: train loss  0.04469 (mse_score:  0.045)\n",
      "11:30 madminer.utils.ml.tr INFO               val. loss   0.04076 (mse_score:  0.041)\n",
      "11:30 madminer.utils.ml.tr DEBUG   Training epoch 43 / 50\n",
      "11:30 madminer.utils.ml.tr DEBUG   Learning rate: 0.000138949549437\n",
      "11:30 madminer.utils.ml.tr DEBUG   Epoch  43: train loss  0.04467 (mse_score:  0.045)\n",
      "11:30 madminer.utils.ml.tr DEBUG              val. loss   0.04086 (mse_score:  0.041)\n",
      "11:30 madminer.utils.ml.tr DEBUG   Training epoch 44 / 50\n",
      "11:30 madminer.utils.ml.tr DEBUG   Learning rate: 0.000132571136559\n",
      "11:30 madminer.utils.ml.tr DEBUG   Epoch  44: train loss  0.04463 (mse_score:  0.045)\n",
      "11:30 madminer.utils.ml.tr DEBUG              val. loss   0.04053 (mse_score:  0.041)\n",
      "11:30 madminer.utils.ml.tr DEBUG   Training epoch 45 / 50\n",
      "11:30 madminer.utils.ml.tr DEBUG   Learning rate: 0.000126485521686\n",
      "11:30 madminer.utils.ml.tr INFO    Epoch  45: train loss  0.04461 (mse_score:  0.045)\n",
      "11:30 madminer.utils.ml.tr INFO               val. loss   0.04062 (mse_score:  0.041)\n",
      "11:30 madminer.utils.ml.tr DEBUG   Training epoch 46 / 50\n",
      "11:30 madminer.utils.ml.tr DEBUG   Learning rate: 0.000120679264064\n",
      "11:30 madminer.utils.ml.tr DEBUG   Epoch  46: train loss  0.04460 (mse_score:  0.045)\n",
      "11:30 madminer.utils.ml.tr DEBUG              val. loss   0.04079 (mse_score:  0.041)\n",
      "11:30 madminer.utils.ml.tr DEBUG   Training epoch 47 / 50\n",
      "11:30 madminer.utils.ml.tr DEBUG   Learning rate: 0.000115139539933\n",
      "11:30 madminer.utils.ml.tr DEBUG   Epoch  47: train loss  0.04458 (mse_score:  0.045)\n",
      "11:30 madminer.utils.ml.tr DEBUG              val. loss   0.04049 (mse_score:  0.040)\n",
      "11:30 madminer.utils.ml.tr DEBUG   Training epoch 48 / 50\n",
      "11:30 madminer.utils.ml.tr DEBUG   Learning rate: 0.000109854114199\n",
      "11:30 madminer.utils.ml.tr INFO    Epoch  48: train loss  0.04456 (mse_score:  0.045)\n"
     ]
    },
    {
     "name": "stderr",
     "output_type": "stream",
     "text": [
      "11:30 madminer.utils.ml.tr INFO               val. loss   0.04044 (mse_score:  0.040)\n",
      "11:30 madminer.utils.ml.tr DEBUG   Training epoch 49 / 50\n",
      "11:30 madminer.utils.ml.tr DEBUG   Learning rate: 0.000104811313415\n",
      "11:30 madminer.utils.ml.tr DEBUG   Epoch  49: train loss  0.04454 (mse_score:  0.045)\n",
      "11:30 madminer.utils.ml.tr DEBUG              val. loss   0.04059 (mse_score:  0.041)\n",
      "11:30 madminer.utils.ml.tr DEBUG   Training epoch 50 / 50\n",
      "11:30 madminer.utils.ml.tr DEBUG   Learning rate: 0.0001\n",
      "11:30 madminer.utils.ml.tr DEBUG   Epoch  50: train loss  0.04451 (mse_score:  0.045)\n",
      "11:30 madminer.utils.ml.tr DEBUG              val. loss   0.04039 (mse_score:  0.040)\n",
      "11:30 madminer.utils.ml.tr INFO    Early stopping did not improve performance\n",
      "11:30 madminer.utils.ml.tr DEBUG   Training finished\n",
      "11:30 madminer.utils.ml.tr INFO    Training time spend on:\n",
      "11:30 madminer.utils.ml.tr INFO                      initialize model:   0.00h\n",
      "11:30 madminer.utils.ml.tr INFO                                   ALL:   0.03h\n",
      "11:30 madminer.utils.ml.tr INFO                            check data:   0.00h\n",
      "11:30 madminer.utils.ml.tr INFO                          make dataset:   0.00h\n",
      "11:30 madminer.utils.ml.tr INFO                       make dataloader:   0.00h\n",
      "11:30 madminer.utils.ml.tr INFO                       setup optimizer:   0.00h\n",
      "11:30 madminer.utils.ml.tr INFO                   initialize training:   0.00h\n",
      "11:30 madminer.utils.ml.tr INFO                                set lr:   0.00h\n",
      "11:30 madminer.utils.ml.tr INFO                   load training batch:   0.01h\n",
      "11:30 madminer.utils.ml.tr INFO                        fwd: move data:   0.00h\n",
      "11:30 madminer.utils.ml.tr INFO                   fwd: check for nans:   0.01h\n",
      "11:30 madminer.utils.ml.tr INFO                    fwd: model.forward:   0.00h\n",
      "11:30 madminer.utils.ml.tr INFO                 fwd: calculate losses:   0.00h\n",
      "11:30 madminer.utils.ml.tr INFO                 training forward pass:   0.01h\n",
      "11:30 madminer.utils.ml.tr INFO                   training sum losses:   0.00h\n",
      "11:30 madminer.utils.ml.tr INFO                        opt: zero grad:   0.00h\n",
      "11:30 madminer.utils.ml.tr INFO                         opt: backward:   0.00h\n",
      "11:30 madminer.utils.ml.tr INFO                   opt: clip grad norm:   0.00h\n",
      "11:30 madminer.utils.ml.tr INFO                             opt: step:   0.00h\n",
      "11:30 madminer.utils.ml.tr INFO                        optimizer step:   0.01h\n",
      "11:30 madminer.utils.ml.tr INFO                 load validation batch:   0.00h\n",
      "11:30 madminer.utils.ml.tr INFO               validation forward pass:   0.00h\n",
      "11:30 madminer.utils.ml.tr INFO                 validation sum losses:   0.00h\n",
      "11:30 madminer.utils.ml.tr INFO                        early stopping:   0.00h\n",
      "11:30 madminer.utils.ml.tr INFO                          report epoch:   0.00h\n",
      "11:30 madminer.ml          INFO    Saving model to models/sally_systematics\n",
      "11:30 madminer.ml          DEBUG   Saving settings to models/sally_systematics_settings.json\n",
      "11:30 madminer.ml          DEBUG   Saving input scaling information to models/sally_systematics_x_means.npy and models/sally_systematics_x_stds.npy\n",
      "11:30 madminer.ml          DEBUG   Saving state dictionary to models/sally_systematics_state_dict.pt\n"
     ]
    }
   ],
   "source": [
    "estimator = ScoreEstimator(n_hidden=(50,))\n",
    "\n",
    "estimator.train(\n",
    "    method='sally',\n",
    "    x='data/samples/x_train_score_systematics.npy',\n",
    "    t_xz='data/samples/t_xz_train_score_systematics.npy',\n",
    ")\n",
    "\n",
    "estimator.save('models/sally_systematics')"
   ]
  },
  {
   "cell_type": "markdown",
   "metadata": {},
   "source": [
    "## 7. Fisher information"
   ]
  },
  {
   "cell_type": "markdown",
   "metadata": {},
   "source": [
    "The Fisher information is now also a 5x5 matrix. Constraint terms on the nuisance parameters, representing our prior knowledge on their values, can be calculated with `FisherInformation.nuisance_constraint_information()`."
   ]
  },
  {
   "cell_type": "code",
   "execution_count": 11,
   "metadata": {},
   "outputs": [
    {
     "name": "stderr",
     "output_type": "stream",
     "text": [
      "11:47 madminer.analysis    INFO    Loading data from data/lhe_data_systematics.h5\n",
      "11:47 madminer.analysis    INFO    Found 2 parameters\n",
      "11:47 madminer.analysis    DEBUG      CWL2 (LHA: dim6 2, maximal power in squared ME: (2,), range: (-20.0, 20.0))\n",
      "11:47 madminer.analysis    DEBUG      CPWL2 (LHA: dim6 5, maximal power in squared ME: (2,), range: (-20.0, 20.0))\n",
      "11:47 madminer.analysis    INFO    Found 3 nuisance parameters\n",
      "11:47 madminer.analysis    DEBUG      signal_norm_nuisance_param_0 ((u'signal_norm', u'signal_norm_nuisance_param_0_benchmark_0', None))\n",
      "11:47 madminer.analysis    DEBUG      scales_nuisance_param_0 ((u'scales', u'scales_nuisance_param_0_benchmark_0', u'scales_nuisance_param_0_benchmark_1'))\n",
      "11:47 madminer.analysis    DEBUG      bkg_norm_nuisance_param_0 ((u'bkg_norm', u'bkg_norm_nuisance_param_0_benchmark_0', None))\n",
      "11:47 madminer.analysis    INFO    Found 10 benchmarks, of which 6 physical\n",
      "11:47 madminer.analysis    DEBUG      sm: CWL2 = 0.00e+00, CPWL2 = 0.00e+00\n",
      "11:47 madminer.analysis    DEBUG      w: CWL2 = 15.20, CPWL2 = 0.10\n",
      "11:47 madminer.analysis    DEBUG      neg_w: CWL2 = -1.54e+01, CPWL2 = 0.20\n",
      "11:47 madminer.analysis    DEBUG      ww: CWL2 = 0.30, CPWL2 = 15.10\n",
      "11:47 madminer.analysis    DEBUG      neg_ww: CWL2 = 0.40, CPWL2 = -1.53e+01\n",
      "11:47 madminer.analysis    DEBUG      morphing_basis_vector_5: CWL2 = -1.68e+01, CPWL2 = -1.72e+01\n",
      "11:47 madminer.analysis    DEBUG      bkg_norm_nuisance_param_0_benchmark_0: systematics\n",
      "11:47 madminer.analysis    DEBUG      scales_nuisance_param_0_benchmark_0: systematics\n",
      "11:47 madminer.analysis    DEBUG      scales_nuisance_param_0_benchmark_1: systematics\n",
      "11:47 madminer.analysis    DEBUG      signal_norm_nuisance_param_0_benchmark_0: systematics\n",
      "11:47 madminer.analysis    INFO    Found 3 observables\n",
      "11:47 madminer.analysis    DEBUG      0 pt_j1\n",
      "11:47 madminer.analysis    DEBUG      1 delta_phi_jj\n",
      "11:47 madminer.analysis    DEBUG      2 met\n",
      "11:47 madminer.analysis    INFO    Found 57687 events\n",
      "11:47 madminer.analysis    INFO      9858 signal events sampled from benchmark sm\n",
      "11:47 madminer.analysis    INFO      47829 background events\n",
      "11:47 madminer.analysis    INFO    Found morphing setup with 6 components\n",
      "11:47 madminer.analysis    INFO    Found nuisance morphing setup\n"
     ]
    }
   ],
   "source": [
    "fisher = FisherInformation('data/lhe_data_systematics.h5')"
   ]
  },
  {
   "cell_type": "code",
   "execution_count": 12,
   "metadata": {},
   "outputs": [],
   "source": [
    "fisher.full_information?"
   ]
  },
  {
   "cell_type": "code",
   "execution_count": 52,
   "metadata": {},
   "outputs": [
    {
     "name": "stderr",
     "output_type": "stream",
     "text": [
      "12:03 madminer.ml          INFO    Loading model from models/sally_systematics\n",
      "12:03 madminer.ml          DEBUG   Loading settings from models/sally_systematics_settings.json\n",
      "12:03 madminer.ml          DEBUG     Found input scaling information: means [ 1.0988512e+02 -9.4394531e-04  1.8538557e+01], stds [81.42455    2.4303637 18.326069 ]\n",
      "12:03 madminer.ml          DEBUG   Loading state dictionary from models/sally_systematics_state_dict.pt\n",
      "12:03 madminer.ml          DEBUG   Did not find nuisance profiling / projection setup in models/sally_systematics\n",
      "12:03 madminer.fisherinfor INFO    Found 5 parameters in SALLY model, matching 2 physical parameters + 3 nuisance parameters in MadMiner file\n",
      "12:03 madminer.fisherinfor DEBUG   Including nuisance parameters\n",
      "12:03 madminer.fisherinfor DEBUG   Calculating total cross section for theta = [0. 0. 0. 0. 0.]\n",
      "12:03 madminer.analysis    DEBUG   Sampling benchmark closest to None: None\n",
      "12:03 madminer.analysis    DEBUG   Events per benchmark: [9858.    0.    0.    0.    0.    0.]\n",
      "12:03 madminer.fisherinfor DEBUG   Benchmarks xsecs [pb]: [0.0111179  0.06866617 0.08298054 0.07294509 0.07500684 0.17198725\n",
      " 0.01311677 0.00941475 0.01343215 0.01123025]\n",
      "12:03 madminer.fisherinfor DEBUG   Theta matrix: [1. 0. 0. 0. 0. 0. 0. 0. 0. 0.]\n",
      "12:03 madminer.fisherinfor DEBUG   Cross section at theta: 0.011117896246311 pb\n",
      "12:03 madminer.fisherinfor DEBUG   Total cross section: 0.011117896246311 pb\n",
      "12:03 madminer.fisherinfor DEBUG   Calculating total cross section for theta = [0. 0. 0. 0. 0.]\n",
      "12:03 madminer.analysis    DEBUG   Sampling benchmark closest to None: None\n",
      "12:03 madminer.analysis    DEBUG   Events per benchmark: [9858.    0.    0.    0.    0.    0.]\n",
      "12:03 madminer.fisherinfor DEBUG   Benchmarks xsecs [pb]: [0.00241057 0.00241057 0.00241057 0.00241057 0.00241057 0.00241057\n",
      " 0.00289268 0.00201283 0.00295409 0.00241057]\n",
      "12:03 madminer.fisherinfor DEBUG   Theta matrix: [1. 0. 0. 0. 0. 0. 0. 0. 0. 0.]\n",
      "12:03 madminer.fisherinfor DEBUG   Cross section at theta: 0.0024105679357757023 pb\n",
      "12:03 madminer.analysis    DEBUG   Sampling benchmark closest to None: None\n",
      "12:03 madminer.analysis    DEBUG   Events per benchmark: [9858.    0.    0.    0.    0.    0.]\n",
      "12:03 madminer.fisherinfor INFO    Evaluating kinematic Fisher information on batch 1 / 1\n",
      "12:03 madminer.ml          INFO    Loading evaluation data\n",
      "12:03 madminer.ml          INFO    Calculating Fisher information\n",
      "12:03 madminer.ml          DEBUG   Expected per-event score (should be close to zero): [ 0.01813948 -0.00052202 -0.00252429 -0.00320577  0.00499027]\n"
     ]
    }
   ],
   "source": [
    "info_sally, _ = fisher.full_information(\n",
    "    theta=np.zeros(5),\n",
    "    model_file='models/sally_systematics',\n",
    "    luminosity=1000000.,\n",
    "    include_xsec_info=False,\n",
    ")"
   ]
  },
  {
   "cell_type": "code",
   "execution_count": 53,
   "metadata": {},
   "outputs": [],
   "source": [
    "info_nuisance = fisher.nuisance_constraint_information()\n",
    "info = info_sally + info_nuisance"
   ]
  },
  {
   "cell_type": "code",
   "execution_count": 54,
   "metadata": {},
   "outputs": [
    {
     "name": "stdout",
     "output_type": "stream",
     "text": [
      "241.94  16.07 -12.44 -14.26  22.83\n",
      " 16.07 163.94   0.78  -0.19   1.90\n",
      "-12.44   0.78   2.65   2.28  -2.76\n",
      "-14.26  -0.19   2.28   5.03  -4.44\n",
      " 22.83   1.90  -2.76  -4.44   6.59\n"
     ]
    }
   ],
   "source": [
    "for row in info:\n",
    "    print(\" \".join([\"{:6.2f}\".format(entry) for entry in row]))"
   ]
  },
  {
   "cell_type": "markdown",
   "metadata": {},
   "source": [
    "### Fisher contours and profiled information"
   ]
  },
  {
   "cell_type": "markdown",
   "metadata": {},
   "source": [
    "When looking at a subset of these five parameter, we can either ignore the other parameters (\"project\"), or conservatively pick the most pessimistic value of them (\"profile\" them). MadMiner provides the functions `profile_information()` and `project_information()` for this purpose. Let's do that for the parameter space of the two physics parameters:"
   ]
  },
  {
   "cell_type": "code",
   "execution_count": 56,
   "metadata": {},
   "outputs": [
    {
     "name": "stderr",
     "output_type": "stream",
     "text": [
      "12:03 madminer.fisherinfor DEBUG   Profiling Fisher information\n"
     ]
    }
   ],
   "source": [
    "info_proj = project_information(info, [0,1])\n",
    "info_prof = profile_information(info, [0,1])"
   ]
  },
  {
   "cell_type": "code",
   "execution_count": 57,
   "metadata": {},
   "outputs": [
    {
     "data": {
      "image/png": "[encoded data removed]",
      "text/plain": [
       "<Figure size 360x360 with 1 Axes>"
      ]
     },
     "metadata": {
      "needs_background": "light"
     },
     "output_type": "display_data"
    }
   ],
   "source": [
    "_ = plot_fisher_information_contours_2d(\n",
    "    [info_proj, info_prof],\n",
    "    inline_labels=[\"Projected\", \"Profiled\"],\n",
    "    xrange=(-0.1,0.1),\n",
    "    yrange=(-0.1,0.1)\n",
    ")"
   ]
  },
  {
   "cell_type": "markdown",
   "metadata": {},
   "source": [
    "For illustration, we can look at just one physics parameter and one nuisance parameter:"
   ]
  },
  {
   "cell_type": "code",
   "execution_count": 66,
   "metadata": {},
   "outputs": [
    {
     "name": "stderr",
     "output_type": "stream",
     "text": [
      "12:06 madminer.fisherinfor DEBUG   Profiling Fisher information\n"
     ]
    }
   ],
   "source": [
    "info_demo = project_information(info, [0, 4])\n",
    "\n",
    "info_demo_profiled = np.zeros((2,2))\n",
    "info_demo_profiled[0,0] = profile_information(info_demo, [0,])"
   ]
  },
  {
   "cell_type": "code",
   "execution_count": 71,
   "metadata": {},
   "outputs": [
    {
     "data": {
      "image/png": "[encoded data removed]",
      "text/plain": [
       "<Figure size 360x360 with 1 Axes>"
      ]
     },
     "metadata": {
      "needs_background": "light"
     },
     "output_type": "display_data"
    }
   ],
   "source": [
    "_ = plot_fisher_information_contours_2d(\n",
    "    [info_demo, info_demo_profiled],\n",
    "    inline_labels=[None, \"Profiled\"],\n",
    "    xrange=(-0.2,0.2),\n",
    "    yrange=(-0.6,0.6),\n",
    "    xlabel=\"Parameter of interest\",\n",
    "    ylabel=\"Nuisance parameter\",\n",
    ")"
   ]
  },
  {
   "cell_type": "code",
   "execution_count": 63,
   "metadata": {},
   "outputs": [],
   "source": [
    "plot_fisher_information_contours_2d?"
   ]
  },
  {
   "cell_type": "code",
   "execution_count": null,
   "metadata": {},
   "outputs": [],
   "source": []
  }
 ],
 "metadata": {
  "kernelspec": {
   "display_name": "Python 2",
   "language": "python",
   "name": "python2"
  },
  "language_info": {
   "codemirror_mode": {
    "name": "ipython",
    "version": 2
   },
   "file_extension": ".py",
   "mimetype": "text/x-python",
   "name": "python",
   "nbconvert_exporter": "python",
   "pygments_lexer": "ipython2",
   "version": "2.7.15"
  }
 },
 "nbformat": 4,
 "nbformat_minor": 2
}
